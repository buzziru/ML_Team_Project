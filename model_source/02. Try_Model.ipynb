{
 "cells": [
  {
   "cell_type": "code",
   "execution_count": 21,
   "metadata": {},
   "outputs": [],
   "source": [
    "import pandas as pd\n",
    "import numpy as np\n",
    "import matplotlib.pyplot as plt\n",
    "from matplotlib import rc\n",
    "import seaborn as sns\n",
    "from statsmodels.graphics.mosaicplot import mosaic\n",
    "from sklearn.model_selection import train_test_split\n",
    "from sklearn.preprocessing import StandardScaler, RobustScaler\n",
    "from sklearn.linear_model import LogisticRegression\n",
    "from sklearn.tree import DecisionTreeClassifier\n",
    "from sklearn.ensemble import RandomForestClassifier\n",
    "from lightgbm import LGBMClassifier\n",
    "from xgboost import XGBClassifier\n",
    "from sklearn.decomposition import PCA\n",
    "from sklearn.metrics import roc_auc_score, roc_curve\n",
    "from clf_evaluation import *\n",
    "from sklearn.model_selection import GridSearchCV\n",
    "from sklearn.pipeline import Pipeline\n",
    "from imblearn.over_sampling import SMOTE\n",
    "\n",
    "%matplotlib inline\n",
    "\n",
    "rc('font', family='Malgun Gothic')\n",
    "sns.set_style('whitegrid')"
   ]
  },
  {
   "cell_type": "code",
   "execution_count": 45,
   "metadata": {},
   "outputs": [
    {
     "data": {
      "text/html": [
       "<div>\n",
       "<style scoped>\n",
       "    .dataframe tbody tr th:only-of-type {\n",
       "        vertical-align: middle;\n",
       "    }\n",
       "\n",
       "    .dataframe tbody tr th {\n",
       "        vertical-align: top;\n",
       "    }\n",
       "\n",
       "    .dataframe thead th {\n",
       "        text-align: right;\n",
       "    }\n",
       "</style>\n",
       "<table border=\"1\" class=\"dataframe\">\n",
       "  <thead>\n",
       "    <tr style=\"text-align: right;\">\n",
       "      <th></th>\n",
       "      <th>id</th>\n",
       "      <th>CustomerId</th>\n",
       "      <th>Surname</th>\n",
       "      <th>CreditScore</th>\n",
       "      <th>Geography</th>\n",
       "      <th>Gender</th>\n",
       "      <th>Age</th>\n",
       "      <th>Tenure</th>\n",
       "      <th>Balance</th>\n",
       "      <th>NumOfProducts</th>\n",
       "      <th>HasCrCard</th>\n",
       "      <th>IsActiveMember</th>\n",
       "      <th>EstimatedSalary</th>\n",
       "      <th>Exited</th>\n",
       "    </tr>\n",
       "  </thead>\n",
       "  <tbody>\n",
       "    <tr>\n",
       "      <th>0</th>\n",
       "      <td>0</td>\n",
       "      <td>15674932</td>\n",
       "      <td>Okwudilichukwu</td>\n",
       "      <td>668</td>\n",
       "      <td>France</td>\n",
       "      <td>Male</td>\n",
       "      <td>33.0</td>\n",
       "      <td>3</td>\n",
       "      <td>0.00</td>\n",
       "      <td>2</td>\n",
       "      <td>1.0</td>\n",
       "      <td>0.0</td>\n",
       "      <td>181449.97</td>\n",
       "      <td>0</td>\n",
       "    </tr>\n",
       "    <tr>\n",
       "      <th>1</th>\n",
       "      <td>1</td>\n",
       "      <td>15749177</td>\n",
       "      <td>Okwudiliolisa</td>\n",
       "      <td>627</td>\n",
       "      <td>France</td>\n",
       "      <td>Male</td>\n",
       "      <td>33.0</td>\n",
       "      <td>1</td>\n",
       "      <td>0.00</td>\n",
       "      <td>2</td>\n",
       "      <td>1.0</td>\n",
       "      <td>1.0</td>\n",
       "      <td>49503.50</td>\n",
       "      <td>0</td>\n",
       "    </tr>\n",
       "    <tr>\n",
       "      <th>2</th>\n",
       "      <td>2</td>\n",
       "      <td>15694510</td>\n",
       "      <td>Hsueh</td>\n",
       "      <td>678</td>\n",
       "      <td>France</td>\n",
       "      <td>Male</td>\n",
       "      <td>40.0</td>\n",
       "      <td>10</td>\n",
       "      <td>0.00</td>\n",
       "      <td>2</td>\n",
       "      <td>1.0</td>\n",
       "      <td>0.0</td>\n",
       "      <td>184866.69</td>\n",
       "      <td>0</td>\n",
       "    </tr>\n",
       "    <tr>\n",
       "      <th>3</th>\n",
       "      <td>3</td>\n",
       "      <td>15741417</td>\n",
       "      <td>Kao</td>\n",
       "      <td>581</td>\n",
       "      <td>France</td>\n",
       "      <td>Male</td>\n",
       "      <td>34.0</td>\n",
       "      <td>2</td>\n",
       "      <td>148882.54</td>\n",
       "      <td>1</td>\n",
       "      <td>1.0</td>\n",
       "      <td>1.0</td>\n",
       "      <td>84560.88</td>\n",
       "      <td>0</td>\n",
       "    </tr>\n",
       "    <tr>\n",
       "      <th>4</th>\n",
       "      <td>4</td>\n",
       "      <td>15766172</td>\n",
       "      <td>Chiemenam</td>\n",
       "      <td>716</td>\n",
       "      <td>Spain</td>\n",
       "      <td>Male</td>\n",
       "      <td>33.0</td>\n",
       "      <td>5</td>\n",
       "      <td>0.00</td>\n",
       "      <td>2</td>\n",
       "      <td>1.0</td>\n",
       "      <td>1.0</td>\n",
       "      <td>15068.83</td>\n",
       "      <td>0</td>\n",
       "    </tr>\n",
       "  </tbody>\n",
       "</table>\n",
       "</div>"
      ],
      "text/plain": [
       "   id  CustomerId         Surname  CreditScore Geography Gender   Age  Tenure  \\\n",
       "0   0    15674932  Okwudilichukwu          668    France   Male  33.0       3   \n",
       "1   1    15749177   Okwudiliolisa          627    France   Male  33.0       1   \n",
       "2   2    15694510           Hsueh          678    France   Male  40.0      10   \n",
       "3   3    15741417             Kao          581    France   Male  34.0       2   \n",
       "4   4    15766172       Chiemenam          716     Spain   Male  33.0       5   \n",
       "\n",
       "     Balance  NumOfProducts  HasCrCard  IsActiveMember  EstimatedSalary  \\\n",
       "0       0.00              2        1.0             0.0        181449.97   \n",
       "1       0.00              2        1.0             1.0         49503.50   \n",
       "2       0.00              2        1.0             0.0        184866.69   \n",
       "3  148882.54              1        1.0             1.0         84560.88   \n",
       "4       0.00              2        1.0             1.0         15068.83   \n",
       "\n",
       "   Exited  \n",
       "0       0  \n",
       "1       0  \n",
       "2       0  \n",
       "3       0  \n",
       "4       0  "
      ]
     },
     "execution_count": 45,
     "metadata": {},
     "output_type": "execute_result"
    }
   ],
   "source": [
    "df = pd.read_csv('../data/train.csv/train.csv')\n",
    "df.head()"
   ]
  },
  {
   "cell_type": "code",
   "execution_count": 46,
   "metadata": {},
   "outputs": [
    {
     "data": {
      "text/html": [
       "<div>\n",
       "<style scoped>\n",
       "    .dataframe tbody tr th:only-of-type {\n",
       "        vertical-align: middle;\n",
       "    }\n",
       "\n",
       "    .dataframe tbody tr th {\n",
       "        vertical-align: top;\n",
       "    }\n",
       "\n",
       "    .dataframe thead th {\n",
       "        text-align: right;\n",
       "    }\n",
       "</style>\n",
       "<table border=\"1\" class=\"dataframe\">\n",
       "  <thead>\n",
       "    <tr style=\"text-align: right;\">\n",
       "      <th></th>\n",
       "      <th>id</th>\n",
       "      <th>CustomerId</th>\n",
       "      <th>Surname</th>\n",
       "      <th>CreditScore</th>\n",
       "      <th>Age</th>\n",
       "      <th>Tenure</th>\n",
       "      <th>Balance</th>\n",
       "      <th>NumOfProducts</th>\n",
       "      <th>HasCrCard</th>\n",
       "      <th>IsActiveMember</th>\n",
       "      <th>EstimatedSalary</th>\n",
       "      <th>Geography_France</th>\n",
       "      <th>Geography_Germany</th>\n",
       "      <th>Geography_Spain</th>\n",
       "      <th>Gender_Female</th>\n",
       "      <th>Gender_Male</th>\n",
       "      <th>Exited</th>\n",
       "    </tr>\n",
       "  </thead>\n",
       "  <tbody>\n",
       "    <tr>\n",
       "      <th>0</th>\n",
       "      <td>0</td>\n",
       "      <td>15674932</td>\n",
       "      <td>Okwudilichukwu</td>\n",
       "      <td>668</td>\n",
       "      <td>33.0</td>\n",
       "      <td>3</td>\n",
       "      <td>0.00</td>\n",
       "      <td>2</td>\n",
       "      <td>1.0</td>\n",
       "      <td>0.0</td>\n",
       "      <td>181449.97</td>\n",
       "      <td>True</td>\n",
       "      <td>False</td>\n",
       "      <td>False</td>\n",
       "      <td>False</td>\n",
       "      <td>True</td>\n",
       "      <td>0</td>\n",
       "    </tr>\n",
       "    <tr>\n",
       "      <th>1</th>\n",
       "      <td>1</td>\n",
       "      <td>15749177</td>\n",
       "      <td>Okwudiliolisa</td>\n",
       "      <td>627</td>\n",
       "      <td>33.0</td>\n",
       "      <td>1</td>\n",
       "      <td>0.00</td>\n",
       "      <td>2</td>\n",
       "      <td>1.0</td>\n",
       "      <td>1.0</td>\n",
       "      <td>49503.50</td>\n",
       "      <td>True</td>\n",
       "      <td>False</td>\n",
       "      <td>False</td>\n",
       "      <td>False</td>\n",
       "      <td>True</td>\n",
       "      <td>0</td>\n",
       "    </tr>\n",
       "    <tr>\n",
       "      <th>2</th>\n",
       "      <td>2</td>\n",
       "      <td>15694510</td>\n",
       "      <td>Hsueh</td>\n",
       "      <td>678</td>\n",
       "      <td>40.0</td>\n",
       "      <td>10</td>\n",
       "      <td>0.00</td>\n",
       "      <td>2</td>\n",
       "      <td>1.0</td>\n",
       "      <td>0.0</td>\n",
       "      <td>184866.69</td>\n",
       "      <td>True</td>\n",
       "      <td>False</td>\n",
       "      <td>False</td>\n",
       "      <td>False</td>\n",
       "      <td>True</td>\n",
       "      <td>0</td>\n",
       "    </tr>\n",
       "    <tr>\n",
       "      <th>3</th>\n",
       "      <td>3</td>\n",
       "      <td>15741417</td>\n",
       "      <td>Kao</td>\n",
       "      <td>581</td>\n",
       "      <td>34.0</td>\n",
       "      <td>2</td>\n",
       "      <td>148882.54</td>\n",
       "      <td>1</td>\n",
       "      <td>1.0</td>\n",
       "      <td>1.0</td>\n",
       "      <td>84560.88</td>\n",
       "      <td>True</td>\n",
       "      <td>False</td>\n",
       "      <td>False</td>\n",
       "      <td>False</td>\n",
       "      <td>True</td>\n",
       "      <td>0</td>\n",
       "    </tr>\n",
       "    <tr>\n",
       "      <th>4</th>\n",
       "      <td>4</td>\n",
       "      <td>15766172</td>\n",
       "      <td>Chiemenam</td>\n",
       "      <td>716</td>\n",
       "      <td>33.0</td>\n",
       "      <td>5</td>\n",
       "      <td>0.00</td>\n",
       "      <td>2</td>\n",
       "      <td>1.0</td>\n",
       "      <td>1.0</td>\n",
       "      <td>15068.83</td>\n",
       "      <td>False</td>\n",
       "      <td>False</td>\n",
       "      <td>True</td>\n",
       "      <td>False</td>\n",
       "      <td>True</td>\n",
       "      <td>0</td>\n",
       "    </tr>\n",
       "  </tbody>\n",
       "</table>\n",
       "</div>"
      ],
      "text/plain": [
       "   id  CustomerId         Surname  CreditScore   Age  Tenure    Balance  \\\n",
       "0   0    15674932  Okwudilichukwu          668  33.0       3       0.00   \n",
       "1   1    15749177   Okwudiliolisa          627  33.0       1       0.00   \n",
       "2   2    15694510           Hsueh          678  40.0      10       0.00   \n",
       "3   3    15741417             Kao          581  34.0       2  148882.54   \n",
       "4   4    15766172       Chiemenam          716  33.0       5       0.00   \n",
       "\n",
       "   NumOfProducts  HasCrCard  IsActiveMember  EstimatedSalary  \\\n",
       "0              2        1.0             0.0        181449.97   \n",
       "1              2        1.0             1.0         49503.50   \n",
       "2              2        1.0             0.0        184866.69   \n",
       "3              1        1.0             1.0         84560.88   \n",
       "4              2        1.0             1.0         15068.83   \n",
       "\n",
       "   Geography_France  Geography_Germany  Geography_Spain  Gender_Female  \\\n",
       "0              True              False            False          False   \n",
       "1              True              False            False          False   \n",
       "2              True              False            False          False   \n",
       "3              True              False            False          False   \n",
       "4             False              False             True          False   \n",
       "\n",
       "   Gender_Male  Exited  \n",
       "0         True       0  \n",
       "1         True       0  \n",
       "2         True       0  \n",
       "3         True       0  \n",
       "4         True       0  "
      ]
     },
     "execution_count": 46,
     "metadata": {},
     "output_type": "execute_result"
    }
   ],
   "source": [
    "df_ohe = pd.get_dummies(df[['Geography', 'Gender']])\n",
    "pre_ohe = df.drop(['Geography', 'Gender'], axis=1)\n",
    "data = pd.concat([pre_ohe, df_ohe], axis=1)\n",
    "columns_order = [col for col in data.columns if col != 'Exited']\n",
    "data = data[columns_order + ['Exited']]\n",
    "data.head()"
   ]
  },
  {
   "cell_type": "code",
   "execution_count": 47,
   "metadata": {},
   "outputs": [],
   "source": [
    "X = data.drop(['Exited', 'id', 'CustomerId', 'Surname'], axis=1)\n",
    "y = data['Exited']\n",
    "X_train, X_test, y_train, y_test = train_test_split(X, y, test_size=0.2, random_state=42)\n",
    "\n",
    "smote = SMOTE(random_state=13)\n",
    "X_ovr, y_ovr = smote.fit_resample(X_train, y_train)"
   ]
  },
  {
   "cell_type": "code",
   "execution_count": 5,
   "metadata": {},
   "outputs": [
    {
     "name": "stdout",
     "output_type": "stream",
     "text": [
      "(132027, 13) (33007, 13) (132027,) (33007,)\n",
      "(208122, 13) (208122,)\n"
     ]
    }
   ],
   "source": [
    "print(X_train.shape, X_test.shape, y_train.shape, y_test.shape)\n",
    "print(X_ovr.shape, y_ovr.shape)"
   ]
  },
  {
   "cell_type": "markdown",
   "metadata": {},
   "source": [
    "## 로지스틱 회귀"
   ]
  },
  {
   "cell_type": "markdown",
   "metadata": {},
   "source": [
    "1. Exited - 불균형 상태"
   ]
  },
  {
   "cell_type": "code",
   "execution_count": 17,
   "metadata": {},
   "outputs": [
    {
     "name": "stdout",
     "output_type": "stream",
     "text": [
      "Confusion Matrix\n",
      "[[25139   913]\n",
      " [ 6085   870]]\n",
      "Accuracy: 0.788 Precision: 0.4879 Recall: 0.1251\n",
      "F1: 0.1991 ROC AUC: 0.7152\n"
     ]
    }
   ],
   "source": [
    "lr = LogisticRegression()\n",
    "lr.fit(X_train, y_train)\n",
    "lr_proba = lr.predict_proba(X_test)\n",
    "lr_pred = lr.predict(X_test)\n",
    "\n",
    "print_eval(y_test, lr_pred, lr_proba[:, 1])"
   ]
  },
  {
   "cell_type": "markdown",
   "metadata": {},
   "source": [
    "2. Exited - \"class_weight = 'balanced'\""
   ]
  },
  {
   "cell_type": "code",
   "execution_count": 14,
   "metadata": {},
   "outputs": [
    {
     "name": "stdout",
     "output_type": "stream",
     "text": [
      "Confusion Matrix\n",
      "[[17859  8191]\n",
      " [ 2245  4712]]\n",
      "Accuracy: 0.6838 Precision: 0.3652 Recall: 0.6773\n",
      "F1: 0.4745 ROC AUC: 0.7348\n"
     ]
    }
   ],
   "source": [
    "lr = LogisticRegression(class_weight='balanced')\n",
    "lr.fit(X_train, y_train)\n",
    "lr_proba = lr.predict_proba(X_test)\n",
    "lr_pred = lr.predict(X_test)\n",
    "\n",
    "print_eval(y_test, lr_pred, lr_proba[:, 1])"
   ]
  },
  {
   "cell_type": "markdown",
   "metadata": {},
   "source": [
    "- accuracy, precision이 하락하는 대신 recall이 크게 개선되어 auc_score가 소폭 상승\n",
    "- 타겟 데이터 불균형의 해소로 모델의 성능이 개선"
   ]
  },
  {
   "cell_type": "markdown",
   "metadata": {},
   "source": [
    "> Recall, Precision의 의미\n",
    "- recall : 실제 이탈 고객 중 모델이 얼마나 많은 이탈 고객을 올바르게 예측했는가\n",
    "    - 이탈 가능성이 있는 고객을 놓치는 것이 비즈니스에 큰 손실을 야기할 때 중요\n",
    "- precision : 모델이 이탈한다고 예측한 고객 중 실제로 이탈한 고객의 비율\n",
    "    - 이탈 하지 않을 고객을 이탈할 것으로 예측하는 비율이 높다면, 이탈 고객 방지를 위한 마케팅 비용이 낭비될 수 있음\n",
    "- auc score : 모델이 이탈 고객과 비이탈 고객을 얼마나 잘 구분하는가\n",
    "    - 모델의 전반적인 성능 평가에 유용"
   ]
  },
  {
   "cell_type": "markdown",
   "metadata": {},
   "source": [
    "3. oversampling - SMOTE"
   ]
  },
  {
   "cell_type": "code",
   "execution_count": 20,
   "metadata": {},
   "outputs": [
    {
     "name": "stdout",
     "output_type": "stream",
     "text": [
      "Confusion Matrix\n",
      "[[17867  8185]\n",
      " [ 2223  4732]]\n",
      "Accuracy: 0.6847 Precision: 0.3663 Recall: 0.6804\n",
      "F1: 0.4762 ROC AUC: 0.7373\n"
     ]
    }
   ],
   "source": [
    "lr = LogisticRegression(class_weight='balanced')\n",
    "lr.fit(X_ovr, y_ovr)\n",
    "lr_proba = lr.predict_proba(X_test)\n",
    "lr_pred = lr.predict(X_test)\n",
    "\n",
    "print_eval(y_test, lr_pred, lr_proba[:, 1])"
   ]
  },
  {
   "cell_type": "markdown",
   "metadata": {},
   "source": [
    "- 'class_weight'만 설정했을 때와 성능상 큰 차이가 보이진 않음"
   ]
  },
  {
   "cell_type": "markdown",
   "metadata": {},
   "source": [
    "## Decision Tree"
   ]
  },
  {
   "cell_type": "markdown",
   "metadata": {},
   "source": [
    "1. Exited - 불균형 상태"
   ]
  },
  {
   "cell_type": "code",
   "execution_count": 22,
   "metadata": {},
   "outputs": [
    {
     "name": "stdout",
     "output_type": "stream",
     "text": [
      "Confusion Matrix\n",
      "[[25309   743]\n",
      " [ 4181  2774]]\n",
      "Accuracy: 0.8508 Precision: 0.7887 Recall: 0.3988\n",
      "F1: 0.5298 ROC AUC: 0.8448\n"
     ]
    }
   ],
   "source": [
    "dt = DecisionTreeClassifier(max_depth=3, random_state=13)\n",
    "dt.fit(X_train, y_train)\n",
    "dt_proba = dt.predict_proba(X_test)\n",
    "dt_pred = dt.predict(X_test)\n",
    "\n",
    "print_eval(y_test, dt_pred, dt_proba[:, 1])"
   ]
  },
  {
   "cell_type": "markdown",
   "metadata": {},
   "source": [
    "2. Exited - class_weight 사용"
   ]
  },
  {
   "cell_type": "code",
   "execution_count": 23,
   "metadata": {},
   "outputs": [
    {
     "name": "stdout",
     "output_type": "stream",
     "text": [
      "Confusion Matrix\n",
      "[[20168  5884]\n",
      " [ 1601  5354]]\n",
      "Accuracy: 0.7732 Precision: 0.4764 Recall: 0.7698\n",
      "F1: 0.5886 ROC AUC: 0.8448\n"
     ]
    }
   ],
   "source": [
    "dt = DecisionTreeClassifier(max_depth=3, random_state=13, class_weight='balanced')\n",
    "dt.fit(X_train, y_train)\n",
    "dt_proba = dt.predict_proba(X_test)\n",
    "dt_pred = dt.predict(X_test)\n",
    "\n",
    "print_eval(y_test, dt_pred, dt_proba[:, 1])"
   ]
  },
  {
   "cell_type": "markdown",
   "metadata": {},
   "source": [
    "- auc score를 통해 종합적으로 평가할 수 있는 모델의 성능은 로지스틱 회귀에 비해 향상됨"
   ]
  },
  {
   "cell_type": "markdown",
   "metadata": {},
   "source": [
    "> class_weight에 따른 성능 차이\n",
    "- class_weight 미사용: 더 높은 정밀도와 낮은 재현율. 모델이 실제 이탈 고객을 예측하는 데 보수적. 모델은 이탈할 것으로 확신이 드는 경우에만 이탈을 예측하고 이로 인해 잘못된 이탈 예측(거짓 양성)이 적지만, 실제 이탈 고객 중 많은 수를 놓치고 있음\n",
    "\n",
    "- class_weight='balanced' 사용: 재현율이 크게 증가하고 정밀도가 감소. 'balanced' 옵션은 불균형한 클래스 가중치를 조정하여 소수 클래스(이탈 고객)에 더 많은 중요도를 부여함. 결과적으로 모델은 이탈할 가능성이 있는 고객을 더 많이 식별하려 하지만, 이 과정에서 비이탈 고객을 잘못 이탈 고객으로 분류하는 경우가 증가. \n",
    "\n",
    "-> 비즈니스 목적에 따라 어떤 모델을 선택할 것인지 달라질 수 있음"
   ]
  },
  {
   "cell_type": "markdown",
   "metadata": {},
   "source": [
    "3. 오버샘플링"
   ]
  },
  {
   "cell_type": "code",
   "execution_count": 34,
   "metadata": {},
   "outputs": [
    {
     "name": "stdout",
     "output_type": "stream",
     "text": [
      "Confusion Matrix\n",
      "[[20168  5884]\n",
      " [ 1601  5354]]\n",
      "Accuracy: 0.7732 Precision: 0.4764 Recall: 0.7698\n",
      "F1: 0.5886 ROC AUC: 0.8426\n"
     ]
    }
   ],
   "source": [
    "dt = DecisionTreeClassifier(max_depth=3, random_state=13)\n",
    "dt.fit(X_ovr, y_ovr)\n",
    "dt_proba = dt.predict_proba(X_test)\n",
    "dt_pred = dt.predict(X_test)\n",
    "\n",
    "print_eval(y_test, dt_pred, dt_proba[:, 1])"
   ]
  },
  {
   "cell_type": "markdown",
   "metadata": {},
   "source": [
    "- 로지스틱 회귀와 마찬가지로 오버샘플링 한 것과 class_weight를 사용한 것의 차이는 없음"
   ]
  },
  {
   "cell_type": "markdown",
   "metadata": {},
   "source": [
    "## 랜덤포레스트"
   ]
  },
  {
   "cell_type": "markdown",
   "metadata": {},
   "source": [
    "1. Exited - 불균형 상태"
   ]
  },
  {
   "cell_type": "code",
   "execution_count": 27,
   "metadata": {},
   "outputs": [
    {
     "name": "stdout",
     "output_type": "stream",
     "text": [
      "Confusion Matrix\n",
      "[[25908   144]\n",
      " [ 6080   875]]\n",
      "Accuracy: 0.8114 Precision: 0.8587 Recall: 0.1258\n",
      "F1: 0.2195 ROC AUC: 0.8637\n"
     ]
    }
   ],
   "source": [
    "rf = RandomForestClassifier(random_state=13, max_depth=3)\n",
    "rf.fit(X_train, y_train)\n",
    "rf_proba = rf.predict_proba(X_test)\n",
    "rf_pred = rf.predict(X_test)\n",
    "\n",
    "print_eval(y_test, rf_pred, rf_proba[:, 1])"
   ]
  },
  {
   "cell_type": "markdown",
   "metadata": {},
   "source": [
    "2. Exited - class_weight 사용"
   ]
  },
  {
   "cell_type": "code",
   "execution_count": 30,
   "metadata": {},
   "outputs": [
    {
     "name": "stdout",
     "output_type": "stream",
     "text": [
      "Confusion Matrix\n",
      "[[20367  5685]\n",
      " [ 1647  5308]]\n",
      "Accuracy: 0.7779 Precision: 0.4829 Recall: 0.7632\n",
      "F1: 0.5915 ROC AUC: 0.8573\n"
     ]
    }
   ],
   "source": [
    "rf = RandomForestClassifier(random_state=13, max_depth=3, class_weight='balanced')\n",
    "rf.fit(X_train, y_train)\n",
    "rf_proba = rf.predict_proba(X_test)\n",
    "rf_pred = rf.predict(X_test)\n",
    "\n",
    "print_eval(y_test, rf_pred, rf_proba[:, 1])"
   ]
  },
  {
   "cell_type": "markdown",
   "metadata": {},
   "source": [
    "- class_weight 사용시 auc score 소폭 하락.\n",
    "    - recall은 크게 상승했지만, accuracy와 precision이 하락. \n",
    "    - 소수 클래스에 과도한 가중치 부여로 모델의 일반화 능력 저하\n",
    "    - class_weight 조정으로 일부 트리가 소수 클래스에 과도하게 편향되었을 가능성"
   ]
  },
  {
   "cell_type": "markdown",
   "metadata": {},
   "source": [
    "3. 오버샘플링"
   ]
  },
  {
   "cell_type": "code",
   "execution_count": 33,
   "metadata": {},
   "outputs": [
    {
     "name": "stdout",
     "output_type": "stream",
     "text": [
      "Confusion Matrix\n",
      "[[21902  4150]\n",
      " [ 2246  4709]]\n",
      "Accuracy: 0.8062 Precision: 0.5315 Recall: 0.6771\n",
      "F1: 0.5955 ROC AUC: 0.8521\n"
     ]
    }
   ],
   "source": [
    "rf = RandomForestClassifier(random_state=13, max_depth=3)\n",
    "rf.fit(X_ovr, y_ovr)\n",
    "rf_proba = rf.predict_proba(X_test)\n",
    "rf_pred = rf.predict(X_test)\n",
    "\n",
    "print_eval(y_test, rf_pred, rf_proba[:, 1])"
   ]
  },
  {
   "cell_type": "markdown",
   "metadata": {},
   "source": [
    "## LGBM"
   ]
  },
  {
   "cell_type": "markdown",
   "metadata": {},
   "source": [
    "1. Exited - 불균형 상태"
   ]
  },
  {
   "cell_type": "code",
   "execution_count": 35,
   "metadata": {},
   "outputs": [
    {
     "name": "stdout",
     "output_type": "stream",
     "text": [
      "[LightGBM] [Info] Number of positive: 27966, number of negative: 104061\n",
      "[LightGBM] [Info] Auto-choosing row-wise multi-threading, the overhead of testing was 0.002219 seconds.\n",
      "You can set `force_row_wise=true` to remove the overhead.\n",
      "And if memory is not enough, you can set `force_col_wise=true`.\n",
      "[LightGBM] [Info] Total Bins 864\n",
      "[LightGBM] [Info] Number of data points in the train set: 132027, number of used features: 13\n",
      "[LightGBM] [Info] [binary:BoostFromScore]: pavg=0.211820 -> initscore=-1.313988\n",
      "[LightGBM] [Info] Start training from score -1.313988\n",
      "[LightGBM] [Warning] No further splits with positive gain, best gain: -inf\n",
      "Confusion Matrix\n",
      "[[24835  1217]\n",
      " [ 3185  3770]]\n",
      "Accuracy: 0.8666 Precision: 0.756 Recall: 0.5421\n",
      "F1: 0.6314 ROC AUC: 0.8898\n"
     ]
    }
   ],
   "source": [
    "lgbm = LGBMClassifier(random_state=13, max_depth=3)\n",
    "lgbm.fit(X_train, y_train)\n",
    "lgbm_proba = lgbm.predict_proba(X_test)\n",
    "lgbm_pred = lgbm.predict(X_test)\n",
    "\n",
    "print_eval(y_test, lgbm_pred, lgbm_proba[:, 1])"
   ]
  },
  {
   "cell_type": "markdown",
   "metadata": {},
   "source": [
    "2. Exited - class_weight"
   ]
  },
  {
   "cell_type": "code",
   "execution_count": 36,
   "metadata": {},
   "outputs": [
    {
     "name": "stdout",
     "output_type": "stream",
     "text": [
      "[LightGBM] [Info] Number of positive: 27966, number of negative: 104061\n",
      "[LightGBM] [Info] Auto-choosing row-wise multi-threading, the overhead of testing was 0.002603 seconds.\n",
      "You can set `force_row_wise=true` to remove the overhead.\n",
      "And if memory is not enough, you can set `force_col_wise=true`.\n",
      "[LightGBM] [Info] Total Bins 864\n",
      "[LightGBM] [Info] Number of data points in the train set: 132027, number of used features: 13\n",
      "[LightGBM] [Info] [binary:BoostFromScore]: pavg=0.500000 -> initscore=-0.000000\n",
      "[LightGBM] [Info] Start training from score -0.000000\n",
      "Confusion Matrix\n",
      "[[21006  5046]\n",
      " [ 1379  5576]]\n",
      "Accuracy: 0.8053 Precision: 0.5249 Recall: 0.8017\n",
      "F1: 0.6345 ROC AUC: 0.8896\n"
     ]
    }
   ],
   "source": [
    "lgbm = LGBMClassifier(random_state=13, max_depth=3, class_weight='balanced')\n",
    "lgbm.fit(X_train, y_train)\n",
    "lgbm_proba = lgbm.predict_proba(X_test)\n",
    "lgbm_pred = lgbm.predict(X_test)\n",
    "\n",
    "print_eval(y_test, lgbm_pred, lgbm_proba[:, 1])"
   ]
  },
  {
   "cell_type": "markdown",
   "metadata": {},
   "source": [
    "> 데이터 불균형과 precision <-> recall 관계\n",
    "- 정밀도(Precision) 하락: class_weight='balanced'를 사용하면 모델은 소수 클래스의 예측에 더 많은 중점을 두고, 모델은 실제로는 음성 클래스인 샘플들을 양성 클래스로 잘못 분류할 가능성이 높아짐. 모델이 양성으로 예측한 샘플들 중 실제로 양성인 샘플의 비율이 감소\n",
    "- 재현율(Recall) 상승: 소수 클래스에 더 많은 가중치를 부여함으로써 모델은 실제 양성 클래스 샘플을 놓치지 않으려고 하고, 결과적으로 실제 양성 클래스인 샘플들 중 모델이 양성으로 올바르게 예측한 비율이 증가\n",
    "\n",
    "-> 데이터 불균형 문제 해결을 위한 시도는 precision과 recall의 트레이드 오프 관계"
   ]
  },
  {
   "cell_type": "markdown",
   "metadata": {},
   "source": [
    "3. 오버샘플링"
   ]
  },
  {
   "cell_type": "code",
   "execution_count": 37,
   "metadata": {},
   "outputs": [
    {
     "name": "stdout",
     "output_type": "stream",
     "text": [
      "[LightGBM] [Info] Number of positive: 104061, number of negative: 104061\n",
      "[LightGBM] [Info] Auto-choosing row-wise multi-threading, the overhead of testing was 0.007412 seconds.\n",
      "You can set `force_row_wise=true` to remove the overhead.\n",
      "And if memory is not enough, you can set `force_col_wise=true`.\n",
      "[LightGBM] [Info] Total Bins 1556\n",
      "[LightGBM] [Info] Number of data points in the train set: 208122, number of used features: 13\n",
      "[LightGBM] [Info] [binary:BoostFromScore]: pavg=0.500000 -> initscore=0.000000\n",
      "Confusion Matrix\n",
      "[[24079  1973]\n",
      " [ 2621  4334]]\n",
      "Accuracy: 0.8608 Precision: 0.6872 Recall: 0.6231\n",
      "F1: 0.6536 ROC AUC: 0.8876\n"
     ]
    }
   ],
   "source": [
    "lgbm = LGBMClassifier(random_state=13, max_depth=3)\n",
    "lgbm.fit(X_ovr, y_ovr)\n",
    "lgbm_proba = lgbm.predict_proba(X_test)\n",
    "lgbm_pred = lgbm.predict(X_test)\n",
    "\n",
    "print_eval(y_test, lgbm_pred, lgbm_proba[:, 1])"
   ]
  },
  {
   "cell_type": "markdown",
   "metadata": {},
   "source": [
    "> LGBM에서 class_weight과 오버 샘플링 사용 비교\n",
    "- class_weight을 사용한 경우, \n",
    "    - 재현율이 높게 측정됨. 이는 모델이 실제 이탈 고객을를 놓치지 않는 데 효과적임을 의미\n",
    "    - 그러나 이 모델은 낮은 정밀도를 가지고 있어, 이탈 고객이 아닌 경우에도 이탈 고객으로 잘못 예측하는 경우가 많음\n",
    "- SMOTE를 사용한 오버샘플링을 한 경우, \n",
    "    - 더 높은 정확도와 정밀도를 보이지만, 재현율이 첫 번째 모델보다 낮음\n",
    "    - 더 적은 수의 거짓 양성을 생성하지만, 양성 케이스를 놓칠 가능성이 더 높음(실제 이탈 고객을 놓칠 가능성이 더 높음)\n",
    "\n",
    "-> 어떤 모델이 더 나은가?\n",
    "- 비즈니스 요구에 따라 다름: \n",
    "    - 이탈 예측과 같은 경우, 재현율이 더 중요할 수 있음. 이 경우, class_weight를 사용한 모델을 선택\n",
    "    - 비용과 위험 고려: 잘못된 이탈 예측이 마케팅 비용이나 다른 부정적인 결과(고객 불편)를 초래할 수 있다면, 오버 샘플링을 사용한 모델을 선택"
   ]
  },
  {
   "cell_type": "markdown",
   "metadata": {},
   "source": [
    "## XGBoost"
   ]
  },
  {
   "cell_type": "markdown",
   "metadata": {},
   "source": [
    "1. Exited - 불균형 상태"
   ]
  },
  {
   "cell_type": "code",
   "execution_count": 38,
   "metadata": {},
   "outputs": [
    {
     "name": "stdout",
     "output_type": "stream",
     "text": [
      "Confusion Matrix\n",
      "[[24810  1242]\n",
      " [ 3135  3820]]\n",
      "Accuracy: 0.8674 Precision: 0.7546 Recall: 0.5492\n",
      "F1: 0.6358 ROC AUC: 0.8911\n"
     ]
    }
   ],
   "source": [
    "xgb = XGBClassifier(random_state=13, max_depth=3)\n",
    "xgb.fit(X_train, y_train)\n",
    "xgb_proba = xgb.predict_proba(X_test)\n",
    "xgb_pred = xgb.predict(X_test)\n",
    "\n",
    "print_eval(y_test, xgb_pred, xgb_proba[:, 1])"
   ]
  },
  {
   "cell_type": "markdown",
   "metadata": {},
   "source": [
    "2. Exited - scale_pos_weight\n",
    "- 양성 클래스 샘플에 대한 음성 클래스 샘플의 가중치 비율"
   ]
  },
  {
   "cell_type": "code",
   "execution_count": 41,
   "metadata": {},
   "outputs": [
    {
     "name": "stdout",
     "output_type": "stream",
     "text": [
      "Confusion Matrix\n",
      "[[21170  4882]\n",
      " [ 1379  5576]]\n",
      "Accuracy: 0.8103 Precision: 0.5332 Recall: 0.8017\n",
      "F1: 0.6404 ROC AUC: 0.8911\n"
     ]
    }
   ],
   "source": [
    "scale_pos_weight = y_train.value_counts()[0] / y_train.value_counts()[1]\n",
    "xgb = XGBClassifier(random_state=13, max_depth=3, scale_pos_weight=scale_pos_weight)\n",
    "xgb.fit(X_train, y_train)\n",
    "xgb_proba = xgb.predict_proba(X_test)\n",
    "xgb_pred = xgb.predict(X_test)\n",
    "\n",
    "print_eval(y_test, xgb_pred, xgb_proba[:, 1])"
   ]
  },
  {
   "cell_type": "markdown",
   "metadata": {},
   "source": [
    "3. 오버샘플링"
   ]
  },
  {
   "cell_type": "code",
   "execution_count": 40,
   "metadata": {},
   "outputs": [
    {
     "name": "stdout",
     "output_type": "stream",
     "text": [
      "Confusion Matrix\n",
      "[[24343  1709]\n",
      " [ 2748  4207]]\n",
      "Accuracy: 0.865 Precision: 0.7111 Recall: 0.6049\n",
      "F1: 0.6537 ROC AUC: 0.8893\n"
     ]
    }
   ],
   "source": [
    "xgb = XGBClassifier(random_state=13, max_depth=3)\n",
    "xgb.fit(X_ovr, y_ovr)\n",
    "xgb_proba = xgb.predict_proba(X_test)\n",
    "xgb_pred = xgb.predict(X_test)\n",
    "\n",
    "print_eval(y_test, xgb_pred, xgb_proba[:, 1])"
   ]
  },
  {
   "cell_type": "markdown",
   "metadata": {},
   "source": [
    "## 모델 비교"
   ]
  },
  {
   "cell_type": "code",
   "execution_count": 48,
   "metadata": {},
   "outputs": [
    {
     "name": "stdout",
     "output_type": "stream",
     "text": [
      "[LightGBM] [Info] Number of positive: 27966, number of negative: 104061\n",
      "[LightGBM] [Info] Auto-choosing row-wise multi-threading, the overhead of testing was 0.002618 seconds.\n",
      "You can set `force_row_wise=true` to remove the overhead.\n",
      "And if memory is not enough, you can set `force_col_wise=true`.\n",
      "[LightGBM] [Info] Total Bins 864\n",
      "[LightGBM] [Info] Number of data points in the train set: 132027, number of used features: 13\n",
      "[LightGBM] [Info] [binary:BoostFromScore]: pavg=0.500000 -> initscore=-0.000000\n",
      "[LightGBM] [Info] Start training from score -0.000000\n"
     ]
    },
    {
     "data": {
      "text/html": [
       "<div>\n",
       "<style scoped>\n",
       "    .dataframe tbody tr th:only-of-type {\n",
       "        vertical-align: middle;\n",
       "    }\n",
       "\n",
       "    .dataframe tbody tr th {\n",
       "        vertical-align: top;\n",
       "    }\n",
       "\n",
       "    .dataframe thead th {\n",
       "        text-align: right;\n",
       "    }\n",
       "</style>\n",
       "<table border=\"1\" class=\"dataframe\">\n",
       "  <thead>\n",
       "    <tr style=\"text-align: right;\">\n",
       "      <th></th>\n",
       "      <th>accuracy</th>\n",
       "      <th>precision</th>\n",
       "      <th>recall</th>\n",
       "      <th>f1</th>\n",
       "      <th>roc_auc</th>\n",
       "    </tr>\n",
       "  </thead>\n",
       "  <tbody>\n",
       "    <tr>\n",
       "      <th>LogisticRegression</th>\n",
       "      <td>0.680886</td>\n",
       "      <td>0.363122</td>\n",
       "      <td>0.682387</td>\n",
       "      <td>0.474007</td>\n",
       "      <td>0.736675</td>\n",
       "    </tr>\n",
       "    <tr>\n",
       "      <th>DecisionTree</th>\n",
       "      <td>0.77323</td>\n",
       "      <td>0.476419</td>\n",
       "      <td>0.769806</td>\n",
       "      <td>0.588578</td>\n",
       "      <td>0.844813</td>\n",
       "    </tr>\n",
       "    <tr>\n",
       "      <th>RandomForest</th>\n",
       "      <td>0.777865</td>\n",
       "      <td>0.482853</td>\n",
       "      <td>0.763192</td>\n",
       "      <td>0.591487</td>\n",
       "      <td>0.85726</td>\n",
       "    </tr>\n",
       "    <tr>\n",
       "      <th>LGBM</th>\n",
       "      <td>0.805344</td>\n",
       "      <td>0.524948</td>\n",
       "      <td>0.801725</td>\n",
       "      <td>0.634465</td>\n",
       "      <td>0.889617</td>\n",
       "    </tr>\n",
       "    <tr>\n",
       "      <th>XGBoost</th>\n",
       "      <td>0.810313</td>\n",
       "      <td>0.53318</td>\n",
       "      <td>0.801725</td>\n",
       "      <td>0.640441</td>\n",
       "      <td>0.891052</td>\n",
       "    </tr>\n",
       "  </tbody>\n",
       "</table>\n",
       "</div>"
      ],
      "text/plain": [
       "                    accuracy precision    recall        f1   roc_auc\n",
       "LogisticRegression  0.680886  0.363122  0.682387  0.474007  0.736675\n",
       "DecisionTree         0.77323  0.476419  0.769806  0.588578  0.844813\n",
       "RandomForest        0.777865  0.482853  0.763192  0.591487   0.85726\n",
       "LGBM                0.805344  0.524948  0.801725  0.634465  0.889617\n",
       "XGBoost             0.810313   0.53318  0.801725  0.640441  0.891052"
      ]
     },
     "execution_count": 48,
     "metadata": {},
     "output_type": "execute_result"
    }
   ],
   "source": [
    "def get_result(model, X_train, y_train, X_test, y_test):\n",
    "    model.fit(X_train, y_train)\n",
    "    model_proba = model.predict_proba(X_test)\n",
    "    model_pred = model.predict(X_test)\n",
    "    return get_clf_eval(y_test, model_pred, model_proba[:, 1])\n",
    "\n",
    "\n",
    "def get_result_pd(models, model_names, X_train, y_train, X_test, y_test):\n",
    "    col_names = ['accuracy', 'precision', 'recall', 'f1', 'roc_auc']\n",
    "    result_pd = pd.DataFrame(columns=col_names, index=model_names)\n",
    "    for model, model_name in zip(models, model_names):\n",
    "        accuracy, precision, recall, f1, confusion, roc_score = get_result(model, X_train, y_train, X_test, y_test)\n",
    "        result_pd.loc[model_name] = [accuracy, precision, recall, f1, roc_score]\n",
    "    return result_pd\n",
    "\n",
    "\n",
    "model_names = ['LogisticRegression', 'DecisionTree', 'RandomForest', 'LGBM', 'XGBoost']\n",
    "scale_pos_weight = y_train.value_counts()[0] / y_train.value_counts()[1]\n",
    "\n",
    "lr = LogisticRegression(class_weight='balanced', random_state=13)\n",
    "dt = DecisionTreeClassifier(class_weight='balanced', random_state=13, max_depth=3)\n",
    "rf = RandomForestClassifier(class_weight='balanced', random_state=13, max_depth=3)\n",
    "lgbm = LGBMClassifier(class_weight='balanced', random_state=13, max_depth=3)\n",
    "xgb = XGBClassifier(scale_pos_weight=scale_pos_weight, random_state=13, max_depth=3)\n",
    "models = [lr, dt, rf, lgbm, xgb]\n",
    "result_pd = get_result_pd(models, model_names, X_train, y_train, X_test, y_test)\n",
    "result_pd"
   ]
  },
  {
   "cell_type": "code",
   "execution_count": 49,
   "metadata": {},
   "outputs": [
    {
     "name": "stdout",
     "output_type": "stream",
     "text": [
      "<class 'pandas.core.frame.DataFrame'>\n",
      "Index: 5 entries, LogisticRegression to XGBoost\n",
      "Data columns (total 5 columns):\n",
      " #   Column     Non-Null Count  Dtype \n",
      "---  ------     --------------  ----- \n",
      " 0   accuracy   5 non-null      object\n",
      " 1   precision  5 non-null      object\n",
      " 2   recall     5 non-null      object\n",
      " 3   f1         5 non-null      object\n",
      " 4   roc_auc    5 non-null      object\n",
      "dtypes: object(5)\n",
      "memory usage: 412.0+ bytes\n"
     ]
    }
   ],
   "source": [
    "result_pd.info()"
   ]
  },
  {
   "cell_type": "code",
   "execution_count": 50,
   "metadata": {},
   "outputs": [],
   "source": [
    "for col in result_pd.columns:\n",
    "    result_pd[col] = result_pd[col].astype(float)"
   ]
  },
  {
   "cell_type": "code",
   "execution_count": 51,
   "metadata": {},
   "outputs": [
    {
     "data": {
      "text/html": [
       "<style type=\"text/css\">\n",
       "#T_20636_row3_col2, #T_20636_row4_col0, #T_20636_row4_col1, #T_20636_row4_col2, #T_20636_row4_col3, #T_20636_row4_col4 {\n",
       "  background-color: green;\n",
       "}\n",
       "</style>\n",
       "<table id=\"T_20636\">\n",
       "  <thead>\n",
       "    <tr>\n",
       "      <th class=\"blank level0\" >&nbsp;</th>\n",
       "      <th id=\"T_20636_level0_col0\" class=\"col_heading level0 col0\" >accuracy</th>\n",
       "      <th id=\"T_20636_level0_col1\" class=\"col_heading level0 col1\" >precision</th>\n",
       "      <th id=\"T_20636_level0_col2\" class=\"col_heading level0 col2\" >recall</th>\n",
       "      <th id=\"T_20636_level0_col3\" class=\"col_heading level0 col3\" >f1</th>\n",
       "      <th id=\"T_20636_level0_col4\" class=\"col_heading level0 col4\" >roc_auc</th>\n",
       "    </tr>\n",
       "  </thead>\n",
       "  <tbody>\n",
       "    <tr>\n",
       "      <th id=\"T_20636_level0_row0\" class=\"row_heading level0 row0\" >LogisticRegression</th>\n",
       "      <td id=\"T_20636_row0_col0\" class=\"data row0 col0\" >0.680886</td>\n",
       "      <td id=\"T_20636_row0_col1\" class=\"data row0 col1\" >0.363122</td>\n",
       "      <td id=\"T_20636_row0_col2\" class=\"data row0 col2\" >0.682387</td>\n",
       "      <td id=\"T_20636_row0_col3\" class=\"data row0 col3\" >0.474007</td>\n",
       "      <td id=\"T_20636_row0_col4\" class=\"data row0 col4\" >0.736675</td>\n",
       "    </tr>\n",
       "    <tr>\n",
       "      <th id=\"T_20636_level0_row1\" class=\"row_heading level0 row1\" >DecisionTree</th>\n",
       "      <td id=\"T_20636_row1_col0\" class=\"data row1 col0\" >0.773230</td>\n",
       "      <td id=\"T_20636_row1_col1\" class=\"data row1 col1\" >0.476419</td>\n",
       "      <td id=\"T_20636_row1_col2\" class=\"data row1 col2\" >0.769806</td>\n",
       "      <td id=\"T_20636_row1_col3\" class=\"data row1 col3\" >0.588578</td>\n",
       "      <td id=\"T_20636_row1_col4\" class=\"data row1 col4\" >0.844813</td>\n",
       "    </tr>\n",
       "    <tr>\n",
       "      <th id=\"T_20636_level0_row2\" class=\"row_heading level0 row2\" >RandomForest</th>\n",
       "      <td id=\"T_20636_row2_col0\" class=\"data row2 col0\" >0.777865</td>\n",
       "      <td id=\"T_20636_row2_col1\" class=\"data row2 col1\" >0.482853</td>\n",
       "      <td id=\"T_20636_row2_col2\" class=\"data row2 col2\" >0.763192</td>\n",
       "      <td id=\"T_20636_row2_col3\" class=\"data row2 col3\" >0.591487</td>\n",
       "      <td id=\"T_20636_row2_col4\" class=\"data row2 col4\" >0.857260</td>\n",
       "    </tr>\n",
       "    <tr>\n",
       "      <th id=\"T_20636_level0_row3\" class=\"row_heading level0 row3\" >LGBM</th>\n",
       "      <td id=\"T_20636_row3_col0\" class=\"data row3 col0\" >0.805344</td>\n",
       "      <td id=\"T_20636_row3_col1\" class=\"data row3 col1\" >0.524948</td>\n",
       "      <td id=\"T_20636_row3_col2\" class=\"data row3 col2\" >0.801725</td>\n",
       "      <td id=\"T_20636_row3_col3\" class=\"data row3 col3\" >0.634465</td>\n",
       "      <td id=\"T_20636_row3_col4\" class=\"data row3 col4\" >0.889617</td>\n",
       "    </tr>\n",
       "    <tr>\n",
       "      <th id=\"T_20636_level0_row4\" class=\"row_heading level0 row4\" >XGBoost</th>\n",
       "      <td id=\"T_20636_row4_col0\" class=\"data row4 col0\" >0.810313</td>\n",
       "      <td id=\"T_20636_row4_col1\" class=\"data row4 col1\" >0.533180</td>\n",
       "      <td id=\"T_20636_row4_col2\" class=\"data row4 col2\" >0.801725</td>\n",
       "      <td id=\"T_20636_row4_col3\" class=\"data row4 col3\" >0.640441</td>\n",
       "      <td id=\"T_20636_row4_col4\" class=\"data row4 col4\" >0.891052</td>\n",
       "    </tr>\n",
       "  </tbody>\n",
       "</table>\n"
      ],
      "text/plain": [
       "<pandas.io.formats.style.Styler at 0x18808737220>"
      ]
     },
     "execution_count": 51,
     "metadata": {},
     "output_type": "execute_result"
    }
   ],
   "source": [
    "def highlight_max(s):\n",
    "    is_max = s == s.max()\n",
    "    return ['background-color: green' if v else '' for v in is_max]\n",
    "\n",
    "result_pd.style.apply(highlight_max)"
   ]
  },
  {
   "cell_type": "code",
   "execution_count": 52,
   "metadata": {},
   "outputs": [
    {
     "data": {
      "image/png": "[encoded data removed]",
      "text/plain": [
       "<Figure size 1000x800 with 1 Axes>"
      ]
     },
     "metadata": {},
     "output_type": "display_data"
    }
   ],
   "source": [
    "def draw_roc_curve_plot(models, model_names, X_test, y_test):\n",
    "    plt.figure(figsize=(10, 8))\n",
    "    for i in range(len(model_names)):\n",
    "        pred_probas = models[i].predict_proba(X_test)[:, 1]\n",
    "        fpr, tpr, thresholds = roc_curve(y_test, pred_probas)\n",
    "        plt.plot(fpr, tpr, label=model_names[i])\n",
    "    plt.plot([0, 1], [0, 1], 'k--', label='Random')\n",
    "    plt.xlim([0.0, 1.0])\n",
    "    plt.ylim([0.0, 1.0])\n",
    "    plt.xlabel('False Positive Rate')\n",
    "    plt.ylabel('True Positive Rate')\n",
    "    plt.legend()\n",
    "    plt.show()\n",
    "\n",
    "draw_roc_curve_plot(models, model_names, X_test, y_test)"
   ]
  },
  {
   "cell_type": "code",
   "execution_count": 53,
   "metadata": {},
   "outputs": [
    {
     "data": {
      "text/html": [
       "<div>\n",
       "<style scoped>\n",
       "    .dataframe tbody tr th:only-of-type {\n",
       "        vertical-align: middle;\n",
       "    }\n",
       "\n",
       "    .dataframe tbody tr th {\n",
       "        vertical-align: top;\n",
       "    }\n",
       "\n",
       "    .dataframe thead th {\n",
       "        text-align: right;\n",
       "    }\n",
       "</style>\n",
       "<table border=\"1\" class=\"dataframe\">\n",
       "  <thead>\n",
       "    <tr style=\"text-align: right;\">\n",
       "      <th></th>\n",
       "      <th>Feature</th>\n",
       "      <th>Importance</th>\n",
       "    </tr>\n",
       "  </thead>\n",
       "  <tbody>\n",
       "    <tr>\n",
       "      <th>1</th>\n",
       "      <td>Age</td>\n",
       "      <td>161</td>\n",
       "    </tr>\n",
       "    <tr>\n",
       "      <th>4</th>\n",
       "      <td>NumOfProducts</td>\n",
       "      <td>157</td>\n",
       "    </tr>\n",
       "    <tr>\n",
       "      <th>3</th>\n",
       "      <td>Balance</td>\n",
       "      <td>83</td>\n",
       "    </tr>\n",
       "    <tr>\n",
       "      <th>6</th>\n",
       "      <td>IsActiveMember</td>\n",
       "      <td>75</td>\n",
       "    </tr>\n",
       "    <tr>\n",
       "      <th>0</th>\n",
       "      <td>CreditScore</td>\n",
       "      <td>53</td>\n",
       "    </tr>\n",
       "    <tr>\n",
       "      <th>7</th>\n",
       "      <td>EstimatedSalary</td>\n",
       "      <td>48</td>\n",
       "    </tr>\n",
       "    <tr>\n",
       "      <th>9</th>\n",
       "      <td>Geography_Germany</td>\n",
       "      <td>47</td>\n",
       "    </tr>\n",
       "    <tr>\n",
       "      <th>11</th>\n",
       "      <td>Gender_Female</td>\n",
       "      <td>37</td>\n",
       "    </tr>\n",
       "    <tr>\n",
       "      <th>5</th>\n",
       "      <td>HasCrCard</td>\n",
       "      <td>22</td>\n",
       "    </tr>\n",
       "    <tr>\n",
       "      <th>2</th>\n",
       "      <td>Tenure</td>\n",
       "      <td>16</td>\n",
       "    </tr>\n",
       "    <tr>\n",
       "      <th>8</th>\n",
       "      <td>Geography_France</td>\n",
       "      <td>1</td>\n",
       "    </tr>\n",
       "    <tr>\n",
       "      <th>10</th>\n",
       "      <td>Geography_Spain</td>\n",
       "      <td>0</td>\n",
       "    </tr>\n",
       "    <tr>\n",
       "      <th>12</th>\n",
       "      <td>Gender_Male</td>\n",
       "      <td>0</td>\n",
       "    </tr>\n",
       "  </tbody>\n",
       "</table>\n",
       "</div>"
      ],
      "text/plain": [
       "              Feature  Importance\n",
       "1                 Age         161\n",
       "4       NumOfProducts         157\n",
       "3             Balance          83\n",
       "6      IsActiveMember          75\n",
       "0         CreditScore          53\n",
       "7     EstimatedSalary          48\n",
       "9   Geography_Germany          47\n",
       "11      Gender_Female          37\n",
       "5           HasCrCard          22\n",
       "2              Tenure          16\n",
       "8    Geography_France           1\n",
       "10    Geography_Spain           0\n",
       "12        Gender_Male           0"
      ]
     },
     "execution_count": 53,
     "metadata": {},
     "output_type": "execute_result"
    }
   ],
   "source": [
    "lgbm_fi = pd.DataFrame(list(zip(X_train.columns, lgbm.feature_importances_)), \n",
    "                       columns=['Feature', 'Importance']).sort_values(by='Importance', ascending=False)\n",
    "lgbm_fi"
   ]
  },
  {
   "cell_type": "markdown",
   "metadata": {},
   "source": [
    "## PCA 적용"
   ]
  },
  {
   "cell_type": "code",
   "execution_count": 92,
   "metadata": {},
   "outputs": [
    {
     "data": {
      "image/png": "[encoded data removed]",
      "text/plain": [
       "<Figure size 1000x800 with 1 Axes>"
      ]
     },
     "metadata": {},
     "output_type": "display_data"
    }
   ],
   "source": [
    "ss = StandardScaler()\n",
    "ss.fit(X)\n",
    "X_ss = ss.transform(X)\n",
    "\n",
    "pca = PCA()\n",
    "pca.fit(X_ss)\n",
    "explained_variance = pca.explained_variance_ratio_\n",
    "cumulative_explained_variance = np.cumsum(explained_variance)\n",
    "\n",
    "plt.figure(figsize=(10, 8))\n",
    "plt.plot(range(1, len(explained_variance) + 1), explained_variance, '-o', color='red', label='IndividualExplained variance')\n",
    "plt.plot(range(1, len(explained_variance) + 1), cumulative_explained_variance, '-s', color='blue', label='Cumulative explained variance')\n",
    "plt.xticks(range(1, len(explained_variance) + 1))\n",
    "plt.ylabel('Explained variance')\n",
    "plt.xlabel('Principal components')\n",
    "plt.title('Scree Plot')\n",
    "plt.legend()\n",
    "plt.show()"
   ]
  },
  {
   "cell_type": "code",
   "execution_count": 93,
   "metadata": {},
   "outputs": [
    {
     "name": "stdout",
     "output_type": "stream",
     "text": [
      "[LightGBM] [Info] Number of positive: 27966, number of negative: 104061\n",
      "[LightGBM] [Info] Auto-choosing col-wise multi-threading, the overhead of testing was 0.005707 seconds.\n",
      "You can set `force_col_wise=true` to remove the overhead.\n",
      "[LightGBM] [Info] Total Bins 2040\n",
      "[LightGBM] [Info] Number of data points in the train set: 132027, number of used features: 8\n",
      "[LightGBM] [Info] [binary:BoostFromScore]: pavg=0.500000 -> initscore=-0.000000\n",
      "[LightGBM] [Info] Start training from score -0.000000\n",
      "Confusion Matrix\n",
      "[[20016  6036]\n",
      " [ 1502  5453]]\n",
      "Accuracy: 0.7716 Precision: 0.4746 Recall: 0.784\n",
      "F1: 0.5913 ROC AUC: 0.8598\n"
     ]
    }
   ],
   "source": [
    "pipe = Pipeline([\n",
    "    ('scaler', StandardScaler()),\n",
    "    ('pca', PCA(n_components=8)),\n",
    "    ('lgbm', LGBMClassifier(class_weight='balanced', random_state=13, max_depth=3))\n",
    "])\n",
    "\n",
    "pipe.fit(X_train, y_train)\n",
    "pipe_proba = pipe.predict_proba(X_test)\n",
    "pipe_pred = pipe.predict(X_test)\n",
    "\n",
    "print_eval(y_test, pipe_pred, pipe_proba[:, 1])"
   ]
  },
  {
   "cell_type": "markdown",
   "metadata": {},
   "source": [
    "## 그리드 서치\n",
    "- 가장 성능이 좋았던 LGBM, XGBoost에 대해 하이퍼 파라미터 튜닝"
   ]
  },
  {
   "cell_type": "code",
   "execution_count": 104,
   "metadata": {},
   "outputs": [
    {
     "name": "stdout",
     "output_type": "stream",
     "text": [
      "[LightGBM] [Info] Number of positive: 27966, number of negative: 104061\n",
      "[LightGBM] [Info] Auto-choosing row-wise multi-threading, the overhead of testing was 0.003780 seconds.\n",
      "You can set `force_row_wise=true` to remove the overhead.\n",
      "And if memory is not enough, you can set `force_col_wise=true`.\n",
      "[LightGBM] [Info] Total Bins 864\n",
      "[LightGBM] [Info] Number of data points in the train set: 132027, number of used features: 13\n",
      "[LightGBM] [Info] [binary:BoostFromScore]: pavg=0.500000 -> initscore=-0.000000\n",
      "[LightGBM] [Info] Start training from score -0.000000\n",
      "[LightGBM] [Warning] No further splits with positive gain, best gain: -inf\n",
      "[LightGBM] [Warning] No further splits with positive gain, best gain: -inf\n",
      "[LightGBM] [Warning] No further splits with positive gain, best gain: -inf\n",
      "[LightGBM] [Warning] No further splits with positive gain, best gain: -inf\n",
      "[LightGBM] [Warning] No further splits with positive gain, best gain: -inf\n",
      "[LightGBM] [Warning] No further splits with positive gain, best gain: -inf\n",
      "[LightGBM] [Warning] No further splits with positive gain, best gain: -inf\n",
      "[LightGBM] [Warning] No further splits with positive gain, best gain: -inf\n",
      "[LightGBM] [Warning] No further splits with positive gain, best gain: -inf\n",
      "[LightGBM] [Warning] No further splits with positive gain, best gain: -inf\n",
      "[LightGBM] [Warning] No further splits with positive gain, best gain: -inf\n",
      "[LightGBM] [Warning] No further splits with positive gain, best gain: -inf\n",
      "[LightGBM] [Warning] No further splits with positive gain, best gain: -inf\n",
      "[LightGBM] [Warning] No further splits with positive gain, best gain: -inf\n",
      "[LightGBM] [Warning] No further splits with positive gain, best gain: -inf\n",
      "[LightGBM] [Warning] No further splits with positive gain, best gain: -inf\n",
      "[LightGBM] [Warning] No further splits with positive gain, best gain: -inf\n",
      "[LightGBM] [Warning] No further splits with positive gain, best gain: -inf\n",
      "[LightGBM] [Warning] No further splits with positive gain, best gain: -inf\n",
      "[LightGBM] [Warning] No further splits with positive gain, best gain: -inf\n",
      "[LightGBM] [Warning] No further splits with positive gain, best gain: -inf\n",
      "[LightGBM] [Warning] No further splits with positive gain, best gain: -inf\n",
      "[LightGBM] [Warning] No further splits with positive gain, best gain: -inf\n",
      "[LightGBM] [Warning] No further splits with positive gain, best gain: -inf\n",
      "[LightGBM] [Warning] No further splits with positive gain, best gain: -inf\n",
      "[LightGBM] [Warning] No further splits with positive gain, best gain: -inf\n",
      "[LightGBM] [Warning] No further splits with positive gain, best gain: -inf\n",
      "[LightGBM] [Warning] No further splits with positive gain, best gain: -inf\n",
      "[LightGBM] [Warning] No further splits with positive gain, best gain: -inf\n",
      "[LightGBM] [Warning] No further splits with positive gain, best gain: -inf\n",
      "[LightGBM] [Warning] No further splits with positive gain, best gain: -inf\n",
      "[LightGBM] [Warning] No further splits with positive gain, best gain: -inf\n",
      "[LightGBM] [Warning] No further splits with positive gain, best gain: -inf\n",
      "[LightGBM] [Warning] No further splits with positive gain, best gain: -inf\n",
      "[LightGBM] [Warning] No further splits with positive gain, best gain: -inf\n",
      "[LightGBM] [Warning] No further splits with positive gain, best gain: -inf\n",
      "[LightGBM] [Warning] No further splits with positive gain, best gain: -inf\n",
      "[LightGBM] [Warning] No further splits with positive gain, best gain: -inf\n",
      "[LightGBM] [Warning] No further splits with positive gain, best gain: -inf\n",
      "[LightGBM] [Warning] No further splits with positive gain, best gain: -inf\n",
      "[LightGBM] [Warning] No further splits with positive gain, best gain: -inf\n",
      "[LightGBM] [Warning] No further splits with positive gain, best gain: -inf\n",
      "[LightGBM] [Warning] No further splits with positive gain, best gain: -inf\n",
      "[LightGBM] [Warning] No further splits with positive gain, best gain: -inf\n",
      "[LightGBM] [Warning] No further splits with positive gain, best gain: -inf\n",
      "[LightGBM] [Warning] No further splits with positive gain, best gain: -inf\n",
      "[LightGBM] [Warning] No further splits with positive gain, best gain: -inf\n",
      "[LightGBM] [Warning] No further splits with positive gain, best gain: -inf\n",
      "[LightGBM] [Warning] No further splits with positive gain, best gain: -inf\n",
      "[LightGBM] [Warning] No further splits with positive gain, best gain: -inf\n",
      "[LightGBM] [Warning] No further splits with positive gain, best gain: -inf\n",
      "[LightGBM] [Warning] No further splits with positive gain, best gain: -inf\n",
      "[LightGBM] [Warning] No further splits with positive gain, best gain: -inf\n",
      "[LightGBM] [Warning] No further splits with positive gain, best gain: -inf\n",
      "[LightGBM] [Warning] No further splits with positive gain, best gain: -inf\n",
      "[LightGBM] [Warning] No further splits with positive gain, best gain: -inf\n",
      "[LightGBM] [Warning] No further splits with positive gain, best gain: -inf\n",
      "[LightGBM] [Warning] No further splits with positive gain, best gain: -inf\n",
      "[LightGBM] [Warning] No further splits with positive gain, best gain: -inf\n",
      "[LightGBM] [Warning] No further splits with positive gain, best gain: -inf\n",
      "[LightGBM] [Warning] No further splits with positive gain, best gain: -inf\n",
      "[LightGBM] [Warning] No further splits with positive gain, best gain: -inf\n",
      "[LightGBM] [Warning] No further splits with positive gain, best gain: -inf\n",
      "[LightGBM] [Warning] No further splits with positive gain, best gain: -inf\n",
      "[LightGBM] [Warning] No further splits with positive gain, best gain: -inf\n",
      "best score : 0.8885944059130518\n",
      "best parameters : {'max_depth': 5, 'min_child_samples': 60, 'n_estimators': 100, 'num_leaves': 63}\n"
     ]
    }
   ],
   "source": [
    "params = {\n",
    "    'n_estimators': [100, 200, 300],\n",
    "    'max_depth': [3, 5, 7], \n",
    "    'num_leaves': [31, 63, 127],\n",
    "    'min_child_samples': [20, 40, 60]\n",
    "}\n",
    "\n",
    "grid_lgbm = GridSearchCV(\n",
    "    estimator=LGBMClassifier(class_weight='balanced', random_state=13),\n",
    "    param_grid=params,\n",
    "    scoring='roc_auc',\n",
    "    refit=True,\n",
    "    cv=3,\n",
    "    verbose=False,\n",
    "    n_jobs=-1\n",
    ")\n",
    "\n",
    "grid_lgbm.fit(X_train, y_train)\n",
    "\n",
    "print('best score :', grid_lgbm.best_score_)\n",
    "print('best parameters :', grid_lgbm.best_params_)"
   ]
  },
  {
   "cell_type": "code",
   "execution_count": 105,
   "metadata": {},
   "outputs": [
    {
     "name": "stdout",
     "output_type": "stream",
     "text": [
      "[17:21:53] WARNING: C:\\Users\\dev-admin\\croot2\\xgboost-split_1675461376218\\work\\src\\learner.cc:767: \n",
      "Parameters: { \"min_child_samples\", \"num_leaves\" } are not used.\n",
      "\n",
      "best score : 0.8882318822368312\n",
      "best parameters : {'max_depth': 3, 'min_child_samples': 20, 'n_estimators': 100, 'num_leaves': 31}\n"
     ]
    }
   ],
   "source": [
    "params = {\n",
    "    'n_estimators': [100, 200, 300],\n",
    "    'max_depth': [3, 5, 7], \n",
    "    'num_leaves': [31, 63, 127],\n",
    "    'min_child_samples': [20, 40, 60]\n",
    "}\n",
    "\n",
    "grid_lgbm = GridSearchCV(\n",
    "    estimator=XGBClassifier(scale_pos_weight=scale_pos_weight, random_state=13),\n",
    "    param_grid=params,\n",
    "    scoring='roc_auc',\n",
    "    refit=True,\n",
    "    cv=3,\n",
    "    verbose=False,\n",
    "    n_jobs=-1\n",
    ")\n",
    "\n",
    "grid_lgbm.fit(X_train, y_train)\n",
    "\n",
    "print('best score :', grid_lgbm.best_score_)\n",
    "print('best parameters :', grid_lgbm.best_params_)"
   ]
  },
  {
   "cell_type": "markdown",
   "metadata": {},
   "source": [
    "- 하이퍼 파라미터 조정에 따른 성능 향상 정도가 미미함\n",
    "- XGBoost는 LGBM에 비해 속도가 현저하게 느림"
   ]
  },
  {
   "cell_type": "markdown",
   "metadata": {},
   "source": [
    "## 이상치 제거"
   ]
  },
  {
   "cell_type": "code",
   "execution_count": 7,
   "metadata": {},
   "outputs": [
    {
     "data": {
      "text/html": [
       "<div>\n",
       "<style scoped>\n",
       "    .dataframe tbody tr th:only-of-type {\n",
       "        vertical-align: middle;\n",
       "    }\n",
       "\n",
       "    .dataframe tbody tr th {\n",
       "        vertical-align: top;\n",
       "    }\n",
       "\n",
       "    .dataframe thead th {\n",
       "        text-align: right;\n",
       "    }\n",
       "</style>\n",
       "<table border=\"1\" class=\"dataframe\">\n",
       "  <thead>\n",
       "    <tr style=\"text-align: right;\">\n",
       "      <th></th>\n",
       "      <th>Age</th>\n",
       "      <th>Balance</th>\n",
       "      <th>EstimatedSalary</th>\n",
       "    </tr>\n",
       "  </thead>\n",
       "  <tbody>\n",
       "    <tr>\n",
       "      <th>0</th>\n",
       "      <td>33.0</td>\n",
       "      <td>0.00</td>\n",
       "      <td>181449.97</td>\n",
       "    </tr>\n",
       "    <tr>\n",
       "      <th>1</th>\n",
       "      <td>33.0</td>\n",
       "      <td>0.00</td>\n",
       "      <td>49503.50</td>\n",
       "    </tr>\n",
       "    <tr>\n",
       "      <th>2</th>\n",
       "      <td>40.0</td>\n",
       "      <td>0.00</td>\n",
       "      <td>184866.69</td>\n",
       "    </tr>\n",
       "    <tr>\n",
       "      <th>3</th>\n",
       "      <td>34.0</td>\n",
       "      <td>148882.54</td>\n",
       "      <td>84560.88</td>\n",
       "    </tr>\n",
       "    <tr>\n",
       "      <th>4</th>\n",
       "      <td>33.0</td>\n",
       "      <td>0.00</td>\n",
       "      <td>15068.83</td>\n",
       "    </tr>\n",
       "    <tr>\n",
       "      <th>...</th>\n",
       "      <td>...</td>\n",
       "      <td>...</td>\n",
       "      <td>...</td>\n",
       "    </tr>\n",
       "    <tr>\n",
       "      <th>165029</th>\n",
       "      <td>33.0</td>\n",
       "      <td>0.00</td>\n",
       "      <td>131834.75</td>\n",
       "    </tr>\n",
       "    <tr>\n",
       "      <th>165030</th>\n",
       "      <td>35.0</td>\n",
       "      <td>0.00</td>\n",
       "      <td>131834.45</td>\n",
       "    </tr>\n",
       "    <tr>\n",
       "      <th>165031</th>\n",
       "      <td>31.0</td>\n",
       "      <td>0.00</td>\n",
       "      <td>127429.56</td>\n",
       "    </tr>\n",
       "    <tr>\n",
       "      <th>165032</th>\n",
       "      <td>30.0</td>\n",
       "      <td>161533.00</td>\n",
       "      <td>71173.03</td>\n",
       "    </tr>\n",
       "    <tr>\n",
       "      <th>165033</th>\n",
       "      <td>31.0</td>\n",
       "      <td>0.00</td>\n",
       "      <td>61581.79</td>\n",
       "    </tr>\n",
       "  </tbody>\n",
       "</table>\n",
       "<p>165034 rows × 3 columns</p>\n",
       "</div>"
      ],
      "text/plain": [
       "         Age    Balance  EstimatedSalary\n",
       "0       33.0       0.00        181449.97\n",
       "1       33.0       0.00         49503.50\n",
       "2       40.0       0.00        184866.69\n",
       "3       34.0  148882.54         84560.88\n",
       "4       33.0       0.00         15068.83\n",
       "...      ...        ...              ...\n",
       "165029  33.0       0.00        131834.75\n",
       "165030  35.0       0.00        131834.45\n",
       "165031  31.0       0.00        127429.56\n",
       "165032  30.0  161533.00         71173.03\n",
       "165033  31.0       0.00         61581.79\n",
       "\n",
       "[165034 rows x 3 columns]"
      ]
     },
     "execution_count": 7,
     "metadata": {},
     "output_type": "execute_result"
    }
   ],
   "source": [
    "df[['Age', 'Balance', 'EstimatedSalary']]"
   ]
  },
  {
   "cell_type": "code",
   "execution_count": 14,
   "metadata": {},
   "outputs": [
    {
     "data": {
      "image/png": "[encoded data removed]",
      "text/plain": [
       "<Figure size 1200x800 with 3 Axes>"
      ]
     },
     "metadata": {},
     "output_type": "display_data"
    }
   ],
   "source": [
    "fig, ax = plt.subplots(1, 3, figsize=(12, 8))\n",
    "sns.boxplot(y='Age', data=df, ax=ax[0])\n",
    "sns.boxplot(y='Balance', data=df, ax=ax[1])\n",
    "sns.boxplot(y='EstimatedSalary', data=df, ax=ax[2])\n",
    "plt.subplots_adjust(wspace=0.5)\n",
    "plt.show()"
   ]
  },
  {
   "cell_type": "code",
   "execution_count": 15,
   "metadata": {},
   "outputs": [
    {
     "name": "stdout",
     "output_type": "stream",
     "text": [
      "<class 'pandas.core.frame.DataFrame'>\n",
      "Index: 157654 entries, 0 to 165033\n",
      "Data columns (total 14 columns):\n",
      " #   Column           Non-Null Count   Dtype  \n",
      "---  ------           --------------   -----  \n",
      " 0   id               157654 non-null  int64  \n",
      " 1   CustomerId       157654 non-null  int64  \n",
      " 2   Surname          157654 non-null  object \n",
      " 3   CreditScore      157654 non-null  int64  \n",
      " 4   Geography        157654 non-null  object \n",
      " 5   Gender           157654 non-null  object \n",
      " 6   Age              157654 non-null  float64\n",
      " 7   Tenure           157654 non-null  int64  \n",
      " 8   Balance          157654 non-null  float64\n",
      " 9   NumOfProducts    157654 non-null  int64  \n",
      " 10  HasCrCard        157654 non-null  float64\n",
      " 11  IsActiveMember   157654 non-null  float64\n",
      " 12  EstimatedSalary  157654 non-null  float64\n",
      " 13  Exited           157654 non-null  int64  \n",
      "dtypes: float64(5), int64(6), object(3)\n",
      "memory usage: 18.0+ MB\n"
     ]
    }
   ],
   "source": [
    "def remove_outlier(df, col):\n",
    "    q1 = df[col].quantile(0.25)\n",
    "    q3 = df[col].quantile(0.75)\n",
    "    iqr = q3 - q1\n",
    "    lower_bound = q1 - (1.5 * iqr)\n",
    "    upper_bound = q3 + (1.5 * iqr)\n",
    "    df = df[(df[col] > lower_bound) & (df[col] < upper_bound)]\n",
    "    return df\n",
    "\n",
    "df_clean = remove_outlier(df, 'Age')\n",
    "df_clean.info()"
   ]
  },
  {
   "cell_type": "code",
   "execution_count": 18,
   "metadata": {},
   "outputs": [
    {
     "data": {
      "text/plain": [
       "7380"
      ]
     },
     "execution_count": 18,
     "metadata": {},
     "output_type": "execute_result"
    }
   ],
   "source": [
    "len(df) - len(df_clean)"
   ]
  },
  {
   "cell_type": "code",
   "execution_count": 30,
   "metadata": {},
   "outputs": [
    {
     "data": {
      "text/html": [
       "<div>\n",
       "<style scoped>\n",
       "    .dataframe tbody tr th:only-of-type {\n",
       "        vertical-align: middle;\n",
       "    }\n",
       "\n",
       "    .dataframe tbody tr th {\n",
       "        vertical-align: top;\n",
       "    }\n",
       "\n",
       "    .dataframe thead th {\n",
       "        text-align: right;\n",
       "    }\n",
       "</style>\n",
       "<table border=\"1\" class=\"dataframe\">\n",
       "  <thead>\n",
       "    <tr style=\"text-align: right;\">\n",
       "      <th></th>\n",
       "      <th>id</th>\n",
       "      <th>CustomerId</th>\n",
       "      <th>Surname</th>\n",
       "      <th>CreditScore</th>\n",
       "      <th>Age</th>\n",
       "      <th>Tenure</th>\n",
       "      <th>Balance</th>\n",
       "      <th>NumOfProducts</th>\n",
       "      <th>HasCrCard</th>\n",
       "      <th>IsActiveMember</th>\n",
       "      <th>EstimatedSalary</th>\n",
       "      <th>Geography_France</th>\n",
       "      <th>Geography_Germany</th>\n",
       "      <th>Geography_Spain</th>\n",
       "      <th>Gender_Female</th>\n",
       "      <th>Gender_Male</th>\n",
       "      <th>Exited</th>\n",
       "    </tr>\n",
       "  </thead>\n",
       "  <tbody>\n",
       "    <tr>\n",
       "      <th>0</th>\n",
       "      <td>0</td>\n",
       "      <td>15674932</td>\n",
       "      <td>Okwudilichukwu</td>\n",
       "      <td>668</td>\n",
       "      <td>33.0</td>\n",
       "      <td>3</td>\n",
       "      <td>0.00</td>\n",
       "      <td>2</td>\n",
       "      <td>1.0</td>\n",
       "      <td>0.0</td>\n",
       "      <td>181449.97</td>\n",
       "      <td>True</td>\n",
       "      <td>False</td>\n",
       "      <td>False</td>\n",
       "      <td>False</td>\n",
       "      <td>True</td>\n",
       "      <td>0</td>\n",
       "    </tr>\n",
       "    <tr>\n",
       "      <th>1</th>\n",
       "      <td>1</td>\n",
       "      <td>15749177</td>\n",
       "      <td>Okwudiliolisa</td>\n",
       "      <td>627</td>\n",
       "      <td>33.0</td>\n",
       "      <td>1</td>\n",
       "      <td>0.00</td>\n",
       "      <td>2</td>\n",
       "      <td>1.0</td>\n",
       "      <td>1.0</td>\n",
       "      <td>49503.50</td>\n",
       "      <td>True</td>\n",
       "      <td>False</td>\n",
       "      <td>False</td>\n",
       "      <td>False</td>\n",
       "      <td>True</td>\n",
       "      <td>0</td>\n",
       "    </tr>\n",
       "    <tr>\n",
       "      <th>2</th>\n",
       "      <td>2</td>\n",
       "      <td>15694510</td>\n",
       "      <td>Hsueh</td>\n",
       "      <td>678</td>\n",
       "      <td>40.0</td>\n",
       "      <td>10</td>\n",
       "      <td>0.00</td>\n",
       "      <td>2</td>\n",
       "      <td>1.0</td>\n",
       "      <td>0.0</td>\n",
       "      <td>184866.69</td>\n",
       "      <td>True</td>\n",
       "      <td>False</td>\n",
       "      <td>False</td>\n",
       "      <td>False</td>\n",
       "      <td>True</td>\n",
       "      <td>0</td>\n",
       "    </tr>\n",
       "    <tr>\n",
       "      <th>3</th>\n",
       "      <td>3</td>\n",
       "      <td>15741417</td>\n",
       "      <td>Kao</td>\n",
       "      <td>581</td>\n",
       "      <td>34.0</td>\n",
       "      <td>2</td>\n",
       "      <td>148882.54</td>\n",
       "      <td>1</td>\n",
       "      <td>1.0</td>\n",
       "      <td>1.0</td>\n",
       "      <td>84560.88</td>\n",
       "      <td>True</td>\n",
       "      <td>False</td>\n",
       "      <td>False</td>\n",
       "      <td>False</td>\n",
       "      <td>True</td>\n",
       "      <td>0</td>\n",
       "    </tr>\n",
       "    <tr>\n",
       "      <th>4</th>\n",
       "      <td>4</td>\n",
       "      <td>15766172</td>\n",
       "      <td>Chiemenam</td>\n",
       "      <td>716</td>\n",
       "      <td>33.0</td>\n",
       "      <td>5</td>\n",
       "      <td>0.00</td>\n",
       "      <td>2</td>\n",
       "      <td>1.0</td>\n",
       "      <td>1.0</td>\n",
       "      <td>15068.83</td>\n",
       "      <td>False</td>\n",
       "      <td>False</td>\n",
       "      <td>True</td>\n",
       "      <td>False</td>\n",
       "      <td>True</td>\n",
       "      <td>0</td>\n",
       "    </tr>\n",
       "  </tbody>\n",
       "</table>\n",
       "</div>"
      ],
      "text/plain": [
       "   id  CustomerId         Surname  CreditScore   Age  Tenure    Balance  \\\n",
       "0   0    15674932  Okwudilichukwu          668  33.0       3       0.00   \n",
       "1   1    15749177   Okwudiliolisa          627  33.0       1       0.00   \n",
       "2   2    15694510           Hsueh          678  40.0      10       0.00   \n",
       "3   3    15741417             Kao          581  34.0       2  148882.54   \n",
       "4   4    15766172       Chiemenam          716  33.0       5       0.00   \n",
       "\n",
       "   NumOfProducts  HasCrCard  IsActiveMember  EstimatedSalary  \\\n",
       "0              2        1.0             0.0        181449.97   \n",
       "1              2        1.0             1.0         49503.50   \n",
       "2              2        1.0             0.0        184866.69   \n",
       "3              1        1.0             1.0         84560.88   \n",
       "4              2        1.0             1.0         15068.83   \n",
       "\n",
       "   Geography_France  Geography_Germany  Geography_Spain  Gender_Female  \\\n",
       "0              True              False            False          False   \n",
       "1              True              False            False          False   \n",
       "2              True              False            False          False   \n",
       "3              True              False            False          False   \n",
       "4             False              False             True          False   \n",
       "\n",
       "   Gender_Male  Exited  \n",
       "0         True       0  \n",
       "1         True       0  \n",
       "2         True       0  \n",
       "3         True       0  \n",
       "4         True       0  "
      ]
     },
     "execution_count": 30,
     "metadata": {},
     "output_type": "execute_result"
    }
   ],
   "source": [
    "df_ohe = pd.get_dummies(df_clean[['Geography', 'Gender']])\n",
    "pre_ohe = df_clean.drop(['Geography', 'Gender'], axis=1)\n",
    "data = pd.concat([pre_ohe, df_ohe], axis=1)\n",
    "columns_order = [col for col in data.columns if col != 'Exited']\n",
    "data = data[columns_order + ['Exited']]\n",
    "data.head()"
   ]
  },
  {
   "cell_type": "code",
   "execution_count": 35,
   "metadata": {},
   "outputs": [
    {
     "data": {
      "image/png": "[encoded data removed]",
      "text/plain": [
       "<Figure size 1200x800 with 1 Axes>"
      ]
     },
     "metadata": {},
     "output_type": "display_data"
    }
   ],
   "source": [
    "fig, ax = plt.subplots(figsize=(12, 8))\n",
    "sns.boxplot(y='Age', data=df_clean)\n",
    "plt.show()"
   ]
  },
  {
   "cell_type": "code",
   "execution_count": 32,
   "metadata": {},
   "outputs": [],
   "source": [
    "X = data.drop(['Exited', 'id', 'CustomerId', 'Surname'], axis=1)\n",
    "y = data['Exited']\n",
    "X_train, X_test, y_train, y_test = train_test_split(X, y, test_size=0.2, random_state=42)\n",
    "\n",
    "smote = SMOTE(random_state=13)\n",
    "X_ovr, y_ovr = smote.fit_resample(X_train, y_train)"
   ]
  },
  {
   "cell_type": "code",
   "execution_count": 33,
   "metadata": {},
   "outputs": [
    {
     "name": "stdout",
     "output_type": "stream",
     "text": [
      "[LightGBM] [Info] Number of positive: 25540, number of negative: 100583\n",
      "[LightGBM] [Info] Auto-choosing row-wise multi-threading, the overhead of testing was 0.002072 seconds.\n",
      "You can set `force_row_wise=true` to remove the overhead.\n",
      "And if memory is not enough, you can set `force_col_wise=true`.\n",
      "[LightGBM] [Info] Total Bins 834\n",
      "[LightGBM] [Info] Number of data points in the train set: 126123, number of used features: 13\n",
      "[LightGBM] [Info] [binary:BoostFromScore]: pavg=0.500000 -> initscore=0.000000\n",
      "[LightGBM] [Info] Start training from score 0.000000\n"
     ]
    },
    {
     "data": {
      "text/html": [
       "<div>\n",
       "<style scoped>\n",
       "    .dataframe tbody tr th:only-of-type {\n",
       "        vertical-align: middle;\n",
       "    }\n",
       "\n",
       "    .dataframe tbody tr th {\n",
       "        vertical-align: top;\n",
       "    }\n",
       "\n",
       "    .dataframe thead th {\n",
       "        text-align: right;\n",
       "    }\n",
       "</style>\n",
       "<table border=\"1\" class=\"dataframe\">\n",
       "  <thead>\n",
       "    <tr style=\"text-align: right;\">\n",
       "      <th></th>\n",
       "      <th>accuracy</th>\n",
       "      <th>precision</th>\n",
       "      <th>recall</th>\n",
       "      <th>f1</th>\n",
       "      <th>roc_auc</th>\n",
       "    </tr>\n",
       "  </thead>\n",
       "  <tbody>\n",
       "    <tr>\n",
       "      <th>LogisticRegression</th>\n",
       "      <td>0.686626</td>\n",
       "      <td>0.358835</td>\n",
       "      <td>0.690986</td>\n",
       "      <td>0.472366</td>\n",
       "      <td>0.749736</td>\n",
       "    </tr>\n",
       "    <tr>\n",
       "      <th>DecisionTree</th>\n",
       "      <td>0.778853</td>\n",
       "      <td>0.471767</td>\n",
       "      <td>0.746602</td>\n",
       "      <td>0.578186</td>\n",
       "      <td>0.836482</td>\n",
       "    </tr>\n",
       "    <tr>\n",
       "      <th>RandomForest</th>\n",
       "      <td>0.781548</td>\n",
       "      <td>0.475623</td>\n",
       "      <td>0.742228</td>\n",
       "      <td>0.579744</td>\n",
       "      <td>0.852162</td>\n",
       "    </tr>\n",
       "    <tr>\n",
       "      <th>LGBM</th>\n",
       "      <td>0.808379</td>\n",
       "      <td>0.518503</td>\n",
       "      <td>0.785815</td>\n",
       "      <td>0.624767</td>\n",
       "      <td>0.881487</td>\n",
       "    </tr>\n",
       "    <tr>\n",
       "      <th>XGBoost</th>\n",
       "      <td>0.809806</td>\n",
       "      <td>0.520855</td>\n",
       "      <td>0.788158</td>\n",
       "      <td>0.627215</td>\n",
       "      <td>0.882823</td>\n",
       "    </tr>\n",
       "  </tbody>\n",
       "</table>\n",
       "</div>"
      ],
      "text/plain": [
       "                    accuracy precision    recall        f1   roc_auc\n",
       "LogisticRegression  0.686626  0.358835  0.690986  0.472366  0.749736\n",
       "DecisionTree        0.778853  0.471767  0.746602  0.578186  0.836482\n",
       "RandomForest        0.781548  0.475623  0.742228  0.579744  0.852162\n",
       "LGBM                0.808379  0.518503  0.785815  0.624767  0.881487\n",
       "XGBoost             0.809806  0.520855  0.788158  0.627215  0.882823"
      ]
     },
     "execution_count": 33,
     "metadata": {},
     "output_type": "execute_result"
    }
   ],
   "source": [
    "def get_result(model, X_train, y_train, X_test, y_test):\n",
    "    model.fit(X_train, y_train)\n",
    "    model_proba = model.predict_proba(X_test)\n",
    "    model_pred = model.predict(X_test)\n",
    "    return get_clf_eval(y_test, model_pred, model_proba[:, 1])\n",
    "\n",
    "\n",
    "def get_result_pd(models, model_names, X_train, y_train, X_test, y_test):\n",
    "    col_names = ['accuracy', 'precision', 'recall', 'f1', 'roc_auc']\n",
    "    result_pd = pd.DataFrame(columns=col_names, index=model_names)\n",
    "    for model, model_name in zip(models, model_names):\n",
    "        accuracy, precision, recall, f1, confusion, roc_score = get_result(model, X_train, y_train, X_test, y_test)\n",
    "        result_pd.loc[model_name] = [accuracy, precision, recall, f1, roc_score]\n",
    "    return result_pd\n",
    "\n",
    "\n",
    "model_names = ['LogisticRegression', 'DecisionTree', 'RandomForest', 'LGBM', 'XGBoost']\n",
    "scale_pos_weight = y_train.value_counts()[0] / y_train.value_counts()[1]\n",
    "\n",
    "lr = LogisticRegression(class_weight='balanced', random_state=13)\n",
    "dt = DecisionTreeClassifier(class_weight='balanced', random_state=13, max_depth=3)\n",
    "rf = RandomForestClassifier(class_weight='balanced', random_state=13, max_depth=3)\n",
    "lgbm = LGBMClassifier(class_weight='balanced', random_state=13, max_depth=3)\n",
    "xgb = XGBClassifier(scale_pos_weight=scale_pos_weight, random_state=13, max_depth=3)\n",
    "models = [lr, dt, rf, lgbm, xgb]\n",
    "result_pd = get_result_pd(models, model_names, X_train, y_train, X_test, y_test)\n",
    "result_pd"
   ]
  },
  {
   "cell_type": "code",
   "execution_count": 44,
   "metadata": {},
   "outputs": [
    {
     "data": {
      "text/html": [
       "<div>\n",
       "<style scoped>\n",
       "    .dataframe tbody tr th:only-of-type {\n",
       "        vertical-align: middle;\n",
       "    }\n",
       "\n",
       "    .dataframe tbody tr th {\n",
       "        vertical-align: top;\n",
       "    }\n",
       "\n",
       "    .dataframe thead th {\n",
       "        text-align: right;\n",
       "    }\n",
       "</style>\n",
       "<table border=\"1\" class=\"dataframe\">\n",
       "  <thead>\n",
       "    <tr style=\"text-align: right;\">\n",
       "      <th></th>\n",
       "      <th>Feature</th>\n",
       "      <th>Importance</th>\n",
       "    </tr>\n",
       "  </thead>\n",
       "  <tbody>\n",
       "    <tr>\n",
       "      <th>4</th>\n",
       "      <td>NumOfProducts</td>\n",
       "      <td>156</td>\n",
       "    </tr>\n",
       "    <tr>\n",
       "      <th>1</th>\n",
       "      <td>Age</td>\n",
       "      <td>138</td>\n",
       "    </tr>\n",
       "    <tr>\n",
       "      <th>3</th>\n",
       "      <td>Balance</td>\n",
       "      <td>79</td>\n",
       "    </tr>\n",
       "    <tr>\n",
       "      <th>6</th>\n",
       "      <td>IsActiveMember</td>\n",
       "      <td>75</td>\n",
       "    </tr>\n",
       "    <tr>\n",
       "      <th>0</th>\n",
       "      <td>CreditScore</td>\n",
       "      <td>66</td>\n",
       "    </tr>\n",
       "    <tr>\n",
       "      <th>9</th>\n",
       "      <td>Geography_Germany</td>\n",
       "      <td>48</td>\n",
       "    </tr>\n",
       "    <tr>\n",
       "      <th>7</th>\n",
       "      <td>EstimatedSalary</td>\n",
       "      <td>45</td>\n",
       "    </tr>\n",
       "    <tr>\n",
       "      <th>11</th>\n",
       "      <td>Gender_Female</td>\n",
       "      <td>36</td>\n",
       "    </tr>\n",
       "    <tr>\n",
       "      <th>5</th>\n",
       "      <td>HasCrCard</td>\n",
       "      <td>28</td>\n",
       "    </tr>\n",
       "    <tr>\n",
       "      <th>2</th>\n",
       "      <td>Tenure</td>\n",
       "      <td>26</td>\n",
       "    </tr>\n",
       "    <tr>\n",
       "      <th>8</th>\n",
       "      <td>Geography_France</td>\n",
       "      <td>3</td>\n",
       "    </tr>\n",
       "    <tr>\n",
       "      <th>10</th>\n",
       "      <td>Geography_Spain</td>\n",
       "      <td>0</td>\n",
       "    </tr>\n",
       "    <tr>\n",
       "      <th>12</th>\n",
       "      <td>Gender_Male</td>\n",
       "      <td>0</td>\n",
       "    </tr>\n",
       "  </tbody>\n",
       "</table>\n",
       "</div>"
      ],
      "text/plain": [
       "              Feature  Importance\n",
       "4       NumOfProducts         156\n",
       "1                 Age         138\n",
       "3             Balance          79\n",
       "6      IsActiveMember          75\n",
       "0         CreditScore          66\n",
       "9   Geography_Germany          48\n",
       "7     EstimatedSalary          45\n",
       "11      Gender_Female          36\n",
       "5           HasCrCard          28\n",
       "2              Tenure          26\n",
       "8    Geography_France           3\n",
       "10    Geography_Spain           0\n",
       "12        Gender_Male           0"
      ]
     },
     "execution_count": 44,
     "metadata": {},
     "output_type": "execute_result"
    }
   ],
   "source": [
    "lgbm_fi = pd.DataFrame(list(zip(X_train.columns, lgbm.feature_importances_)), \n",
    "                       columns=['Feature', 'Importance']).sort_values(by='Importance', ascending=False)\n",
    "lgbm_fi"
   ]
  },
  {
   "cell_type": "markdown",
   "metadata": {},
   "source": [
    "- 이상치 제거 후, 성능의 변화가 크진 않음\n",
    "- Age 컬럼의 특성 중요도가 소폭 하락함\n",
    "\n",
    "-> 이상치가 'Age' 컬럼의 특성중요도를 인위적으로 증가시켰을 가능성\n",
    "\n",
    "> 평가\n",
    "- 이상치 제거가 모델의 전반적인 예측 능력에 부정적인 영향을 끼치지 않았음\n",
    "- 이상치 제거 후 모델이 더 안정적이며 일반화될 가능성이 높음"
   ]
  },
  {
   "cell_type": "code",
   "execution_count": null,
   "metadata": {},
   "outputs": [],
   "source": []
  }
 ],
 "metadata": {
  "kernelspec": {
   "display_name": "ds_study",
   "language": "python",
   "name": "python3"
  },
  "language_info": {
   "codemirror_mode": {
    "name": "ipython",
    "version": 3
   },
   "file_extension": ".py",
   "mimetype": "text/x-python",
   "name": "python",
   "nbconvert_exporter": "python",
   "pygments_lexer": "ipython3",
   "version": "3.8.18"
  }
 },
 "nbformat": 4,
 "nbformat_minor": 2
}
