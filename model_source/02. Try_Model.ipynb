{
 "cells": [
  {
   "cell_type": "code",
   "execution_count": 10,
   "metadata": {},
   "outputs": [],
   "source": [
    "import pandas as pd\n",
    "import numpy as np\n",
    "import matplotlib.pyplot as plt\n",
    "from matplotlib import rc\n",
    "import seaborn as sns\n",
    "import missingno as msno\n",
    "from statsmodels.graphics.mosaicplot import mosaic\n",
    "from sklearn.model_selection import train_test_split\n",
    "from sklearn.preprocessing import StandardScaler, RobustScaler\n",
    "from sklearn.linear_model import LogisticRegression\n",
    "from sklearn.tree import DecisionTreeClassifier\n",
    "from sklearn.ensemble import RandomForestClassifier\n",
    "from lightgbm import LGBMClassifier\n",
    "from xgboost import XGBClassifier\n",
    "from sklearn.metrics import roc_auc_score, roc_curve\n",
    "from clf_evaluation import *\n",
    "from sklearn.model_selection import GridSearchCV\n",
    "from sklearn.pipeline import Pipeline\n",
    "from imblearn.over_sampling import SMOTE\n",
    "\n",
    "%matplotlib inline\n",
    "\n",
    "rc('font', family='Malgun Gothic')\n",
    "sns.set_style('whitegrid')"
   ]
  },
  {
   "cell_type": "code",
   "execution_count": 5,
   "metadata": {},
   "outputs": [
    {
     "data": {
      "text/html": [
       "<div>\n",
       "<style scoped>\n",
       "    .dataframe tbody tr th:only-of-type {\n",
       "        vertical-align: middle;\n",
       "    }\n",
       "\n",
       "    .dataframe tbody tr th {\n",
       "        vertical-align: top;\n",
       "    }\n",
       "\n",
       "    .dataframe thead th {\n",
       "        text-align: right;\n",
       "    }\n",
       "</style>\n",
       "<table border=\"1\" class=\"dataframe\">\n",
       "  <thead>\n",
       "    <tr style=\"text-align: right;\">\n",
       "      <th></th>\n",
       "      <th>id</th>\n",
       "      <th>CustomerId</th>\n",
       "      <th>Surname</th>\n",
       "      <th>CreditScore</th>\n",
       "      <th>Geography</th>\n",
       "      <th>Gender</th>\n",
       "      <th>Age</th>\n",
       "      <th>Tenure</th>\n",
       "      <th>Balance</th>\n",
       "      <th>NumOfProducts</th>\n",
       "      <th>HasCrCard</th>\n",
       "      <th>IsActiveMember</th>\n",
       "      <th>EstimatedSalary</th>\n",
       "      <th>Exited</th>\n",
       "    </tr>\n",
       "  </thead>\n",
       "  <tbody>\n",
       "    <tr>\n",
       "      <th>0</th>\n",
       "      <td>0</td>\n",
       "      <td>15674932</td>\n",
       "      <td>Okwudilichukwu</td>\n",
       "      <td>668</td>\n",
       "      <td>France</td>\n",
       "      <td>Male</td>\n",
       "      <td>33.0</td>\n",
       "      <td>3</td>\n",
       "      <td>0.00</td>\n",
       "      <td>2</td>\n",
       "      <td>1.0</td>\n",
       "      <td>0.0</td>\n",
       "      <td>181449.97</td>\n",
       "      <td>0</td>\n",
       "    </tr>\n",
       "    <tr>\n",
       "      <th>1</th>\n",
       "      <td>1</td>\n",
       "      <td>15749177</td>\n",
       "      <td>Okwudiliolisa</td>\n",
       "      <td>627</td>\n",
       "      <td>France</td>\n",
       "      <td>Male</td>\n",
       "      <td>33.0</td>\n",
       "      <td>1</td>\n",
       "      <td>0.00</td>\n",
       "      <td>2</td>\n",
       "      <td>1.0</td>\n",
       "      <td>1.0</td>\n",
       "      <td>49503.50</td>\n",
       "      <td>0</td>\n",
       "    </tr>\n",
       "    <tr>\n",
       "      <th>2</th>\n",
       "      <td>2</td>\n",
       "      <td>15694510</td>\n",
       "      <td>Hsueh</td>\n",
       "      <td>678</td>\n",
       "      <td>France</td>\n",
       "      <td>Male</td>\n",
       "      <td>40.0</td>\n",
       "      <td>10</td>\n",
       "      <td>0.00</td>\n",
       "      <td>2</td>\n",
       "      <td>1.0</td>\n",
       "      <td>0.0</td>\n",
       "      <td>184866.69</td>\n",
       "      <td>0</td>\n",
       "    </tr>\n",
       "    <tr>\n",
       "      <th>3</th>\n",
       "      <td>3</td>\n",
       "      <td>15741417</td>\n",
       "      <td>Kao</td>\n",
       "      <td>581</td>\n",
       "      <td>France</td>\n",
       "      <td>Male</td>\n",
       "      <td>34.0</td>\n",
       "      <td>2</td>\n",
       "      <td>148882.54</td>\n",
       "      <td>1</td>\n",
       "      <td>1.0</td>\n",
       "      <td>1.0</td>\n",
       "      <td>84560.88</td>\n",
       "      <td>0</td>\n",
       "    </tr>\n",
       "    <tr>\n",
       "      <th>4</th>\n",
       "      <td>4</td>\n",
       "      <td>15766172</td>\n",
       "      <td>Chiemenam</td>\n",
       "      <td>716</td>\n",
       "      <td>Spain</td>\n",
       "      <td>Male</td>\n",
       "      <td>33.0</td>\n",
       "      <td>5</td>\n",
       "      <td>0.00</td>\n",
       "      <td>2</td>\n",
       "      <td>1.0</td>\n",
       "      <td>1.0</td>\n",
       "      <td>15068.83</td>\n",
       "      <td>0</td>\n",
       "    </tr>\n",
       "  </tbody>\n",
       "</table>\n",
       "</div>"
      ],
      "text/plain": [
       "   id  CustomerId         Surname  CreditScore Geography Gender   Age  Tenure  \\\n",
       "0   0    15674932  Okwudilichukwu          668    France   Male  33.0       3   \n",
       "1   1    15749177   Okwudiliolisa          627    France   Male  33.0       1   \n",
       "2   2    15694510           Hsueh          678    France   Male  40.0      10   \n",
       "3   3    15741417             Kao          581    France   Male  34.0       2   \n",
       "4   4    15766172       Chiemenam          716     Spain   Male  33.0       5   \n",
       "\n",
       "     Balance  NumOfProducts  HasCrCard  IsActiveMember  EstimatedSalary  \\\n",
       "0       0.00              2        1.0             0.0        181449.97   \n",
       "1       0.00              2        1.0             1.0         49503.50   \n",
       "2       0.00              2        1.0             0.0        184866.69   \n",
       "3  148882.54              1        1.0             1.0         84560.88   \n",
       "4       0.00              2        1.0             1.0         15068.83   \n",
       "\n",
       "   Exited  \n",
       "0       0  \n",
       "1       0  \n",
       "2       0  \n",
       "3       0  \n",
       "4       0  "
      ]
     },
     "execution_count": 5,
     "metadata": {},
     "output_type": "execute_result"
    }
   ],
   "source": [
    "df = pd.read_csv('../data/train.csv/train.csv')\n",
    "df.head()"
   ]
  },
  {
   "cell_type": "code",
   "execution_count": 6,
   "metadata": {},
   "outputs": [
    {
     "data": {
      "text/html": [
       "<div>\n",
       "<style scoped>\n",
       "    .dataframe tbody tr th:only-of-type {\n",
       "        vertical-align: middle;\n",
       "    }\n",
       "\n",
       "    .dataframe tbody tr th {\n",
       "        vertical-align: top;\n",
       "    }\n",
       "\n",
       "    .dataframe thead th {\n",
       "        text-align: right;\n",
       "    }\n",
       "</style>\n",
       "<table border=\"1\" class=\"dataframe\">\n",
       "  <thead>\n",
       "    <tr style=\"text-align: right;\">\n",
       "      <th></th>\n",
       "      <th>id</th>\n",
       "      <th>CustomerId</th>\n",
       "      <th>Surname</th>\n",
       "      <th>CreditScore</th>\n",
       "      <th>Age</th>\n",
       "      <th>Tenure</th>\n",
       "      <th>Balance</th>\n",
       "      <th>NumOfProducts</th>\n",
       "      <th>HasCrCard</th>\n",
       "      <th>IsActiveMember</th>\n",
       "      <th>EstimatedSalary</th>\n",
       "      <th>Geography_France</th>\n",
       "      <th>Geography_Germany</th>\n",
       "      <th>Geography_Spain</th>\n",
       "      <th>Gender_Female</th>\n",
       "      <th>Gender_Male</th>\n",
       "      <th>Exited</th>\n",
       "    </tr>\n",
       "  </thead>\n",
       "  <tbody>\n",
       "    <tr>\n",
       "      <th>0</th>\n",
       "      <td>0</td>\n",
       "      <td>15674932</td>\n",
       "      <td>Okwudilichukwu</td>\n",
       "      <td>668</td>\n",
       "      <td>33.0</td>\n",
       "      <td>3</td>\n",
       "      <td>0.00</td>\n",
       "      <td>2</td>\n",
       "      <td>1.0</td>\n",
       "      <td>0.0</td>\n",
       "      <td>181449.97</td>\n",
       "      <td>True</td>\n",
       "      <td>False</td>\n",
       "      <td>False</td>\n",
       "      <td>False</td>\n",
       "      <td>True</td>\n",
       "      <td>0</td>\n",
       "    </tr>\n",
       "    <tr>\n",
       "      <th>1</th>\n",
       "      <td>1</td>\n",
       "      <td>15749177</td>\n",
       "      <td>Okwudiliolisa</td>\n",
       "      <td>627</td>\n",
       "      <td>33.0</td>\n",
       "      <td>1</td>\n",
       "      <td>0.00</td>\n",
       "      <td>2</td>\n",
       "      <td>1.0</td>\n",
       "      <td>1.0</td>\n",
       "      <td>49503.50</td>\n",
       "      <td>True</td>\n",
       "      <td>False</td>\n",
       "      <td>False</td>\n",
       "      <td>False</td>\n",
       "      <td>True</td>\n",
       "      <td>0</td>\n",
       "    </tr>\n",
       "    <tr>\n",
       "      <th>2</th>\n",
       "      <td>2</td>\n",
       "      <td>15694510</td>\n",
       "      <td>Hsueh</td>\n",
       "      <td>678</td>\n",
       "      <td>40.0</td>\n",
       "      <td>10</td>\n",
       "      <td>0.00</td>\n",
       "      <td>2</td>\n",
       "      <td>1.0</td>\n",
       "      <td>0.0</td>\n",
       "      <td>184866.69</td>\n",
       "      <td>True</td>\n",
       "      <td>False</td>\n",
       "      <td>False</td>\n",
       "      <td>False</td>\n",
       "      <td>True</td>\n",
       "      <td>0</td>\n",
       "    </tr>\n",
       "    <tr>\n",
       "      <th>3</th>\n",
       "      <td>3</td>\n",
       "      <td>15741417</td>\n",
       "      <td>Kao</td>\n",
       "      <td>581</td>\n",
       "      <td>34.0</td>\n",
       "      <td>2</td>\n",
       "      <td>148882.54</td>\n",
       "      <td>1</td>\n",
       "      <td>1.0</td>\n",
       "      <td>1.0</td>\n",
       "      <td>84560.88</td>\n",
       "      <td>True</td>\n",
       "      <td>False</td>\n",
       "      <td>False</td>\n",
       "      <td>False</td>\n",
       "      <td>True</td>\n",
       "      <td>0</td>\n",
       "    </tr>\n",
       "    <tr>\n",
       "      <th>4</th>\n",
       "      <td>4</td>\n",
       "      <td>15766172</td>\n",
       "      <td>Chiemenam</td>\n",
       "      <td>716</td>\n",
       "      <td>33.0</td>\n",
       "      <td>5</td>\n",
       "      <td>0.00</td>\n",
       "      <td>2</td>\n",
       "      <td>1.0</td>\n",
       "      <td>1.0</td>\n",
       "      <td>15068.83</td>\n",
       "      <td>False</td>\n",
       "      <td>False</td>\n",
       "      <td>True</td>\n",
       "      <td>False</td>\n",
       "      <td>True</td>\n",
       "      <td>0</td>\n",
       "    </tr>\n",
       "  </tbody>\n",
       "</table>\n",
       "</div>"
      ],
      "text/plain": [
       "   id  CustomerId         Surname  CreditScore   Age  Tenure    Balance  \\\n",
       "0   0    15674932  Okwudilichukwu          668  33.0       3       0.00   \n",
       "1   1    15749177   Okwudiliolisa          627  33.0       1       0.00   \n",
       "2   2    15694510           Hsueh          678  40.0      10       0.00   \n",
       "3   3    15741417             Kao          581  34.0       2  148882.54   \n",
       "4   4    15766172       Chiemenam          716  33.0       5       0.00   \n",
       "\n",
       "   NumOfProducts  HasCrCard  IsActiveMember  EstimatedSalary  \\\n",
       "0              2        1.0             0.0        181449.97   \n",
       "1              2        1.0             1.0         49503.50   \n",
       "2              2        1.0             0.0        184866.69   \n",
       "3              1        1.0             1.0         84560.88   \n",
       "4              2        1.0             1.0         15068.83   \n",
       "\n",
       "   Geography_France  Geography_Germany  Geography_Spain  Gender_Female  \\\n",
       "0              True              False            False          False   \n",
       "1              True              False            False          False   \n",
       "2              True              False            False          False   \n",
       "3              True              False            False          False   \n",
       "4             False              False             True          False   \n",
       "\n",
       "   Gender_Male  Exited  \n",
       "0         True       0  \n",
       "1         True       0  \n",
       "2         True       0  \n",
       "3         True       0  \n",
       "4         True       0  "
      ]
     },
     "execution_count": 6,
     "metadata": {},
     "output_type": "execute_result"
    }
   ],
   "source": [
    "df_ohe = pd.get_dummies(df[['Geography', 'Gender']])\n",
    "pre_ohe = df.drop(['Geography', 'Gender'], axis=1)\n",
    "data = pd.concat([pre_ohe, df_ohe], axis=1)\n",
    "columns_order = [col for col in data.columns if col != 'Exited']\n",
    "data = data[columns_order + ['Exited']]\n",
    "data.head()"
   ]
  },
  {
   "cell_type": "code",
   "execution_count": 15,
   "metadata": {},
   "outputs": [],
   "source": [
    "X = data.drop(['Exited', 'id', 'CustomerId', 'Surname'], axis=1)\n",
    "y = data['Exited']\n",
    "X_train, X_test, y_train, y_test = train_test_split(X, y, test_size=0.2, random_state=42)\n",
    "\n",
    "smote = SMOTE(random_state=13)\n",
    "X_ovr, y_ovr = smote.fit_resample(X_train, y_train)"
   ]
  },
  {
   "cell_type": "code",
   "execution_count": 16,
   "metadata": {},
   "outputs": [
    {
     "name": "stdout",
     "output_type": "stream",
     "text": [
      "(132027, 13) (33007, 13) (132027,) (33007,)\n",
      "(208122, 13) (208122,)\n"
     ]
    }
   ],
   "source": [
    "print(X_train.shape, X_test.shape, y_train.shape, y_test.shape)\n",
    "print(X_ovr.shape, y_ovr.shape)"
   ]
  },
  {
   "cell_type": "markdown",
   "metadata": {},
   "source": [
    "## 로지스틱 회귀"
   ]
  },
  {
   "cell_type": "markdown",
   "metadata": {},
   "source": [
    "1. Exited - 불균형 상태"
   ]
  },
  {
   "cell_type": "code",
   "execution_count": 17,
   "metadata": {},
   "outputs": [
    {
     "name": "stdout",
     "output_type": "stream",
     "text": [
      "Confusion Matrix\n",
      "[[25139   913]\n",
      " [ 6085   870]]\n",
      "Accuracy: 0.788 Precision: 0.4879 Recall: 0.1251\n",
      "F1: 0.1991 ROC AUC: 0.7152\n"
     ]
    }
   ],
   "source": [
    "lr = LogisticRegression()\n",
    "lr.fit(X_train, y_train)\n",
    "lr_proba = lr.predict_proba(X_test)\n",
    "lr_pred = lr.predict(X_test)\n",
    "\n",
    "print_eval(y_test, lr_pred, lr_proba[:, 1])"
   ]
  },
  {
   "cell_type": "markdown",
   "metadata": {},
   "source": [
    "2. Exited - \"class_weight = 'balanced'\""
   ]
  },
  {
   "cell_type": "code",
   "execution_count": 14,
   "metadata": {},
   "outputs": [
    {
     "name": "stdout",
     "output_type": "stream",
     "text": [
      "Confusion Matrix\n",
      "[[17859  8191]\n",
      " [ 2245  4712]]\n",
      "Accuracy: 0.6838 Precision: 0.3652 Recall: 0.6773\n",
      "F1: 0.4745 ROC AUC: 0.7348\n"
     ]
    }
   ],
   "source": [
    "lr = LogisticRegression(class_weight='balanced')\n",
    "lr.fit(X_train, y_train)\n",
    "lr_proba = lr.predict_proba(X_test)\n",
    "lr_pred = lr.predict(X_test)\n",
    "\n",
    "print_eval(y_test, lr_pred, lr_proba[:, 1])"
   ]
  },
  {
   "cell_type": "markdown",
   "metadata": {},
   "source": [
    "- accuracy, precision이 하락하는 대신 recall이 크게 개선되어 auc_score가 소폭 상승\n",
    "- 타겟 데이터 불균형의 해소로 모델의 성능이 개선"
   ]
  },
  {
   "cell_type": "markdown",
   "metadata": {},
   "source": [
    "> Recall, Precision의 의미\n",
    "- recall : 실제 이탈 고객 중 모델이 얼마나 많은 이탈 고객을 올바르게 예측했는가\n",
    "    - 이탈 가능성이 있는 고객을 놓치는 것이 비즈니스에 큰 손실을 야기할 때 중요\n",
    "- precision : 모델이 이탈한다고 예측한 고객 중 실제로 이탈한 고객의 비율\n",
    "    - 이탈 하지 않을 고객을 이탈할 것으로 예측하는 비율이 높다면, 이탈 고객 방지를 위한 마케팅 비용이 낭비될 수 있음\n",
    "- auc score : 모델이 이탈 고객과 비이탈 고객을 얼마나 잘 구분하는가\n",
    "    - 모델의 전반적인 성능 평가에 유용"
   ]
  },
  {
   "cell_type": "markdown",
   "metadata": {},
   "source": [
    "3. oversampling - SMOTE"
   ]
  },
  {
   "cell_type": "code",
   "execution_count": 20,
   "metadata": {},
   "outputs": [
    {
     "name": "stdout",
     "output_type": "stream",
     "text": [
      "Confusion Matrix\n",
      "[[17867  8185]\n",
      " [ 2223  4732]]\n",
      "Accuracy: 0.6847 Precision: 0.3663 Recall: 0.6804\n",
      "F1: 0.4762 ROC AUC: 0.7373\n"
     ]
    }
   ],
   "source": [
    "lr = LogisticRegression(class_weight='balanced')\n",
    "lr.fit(X_ovr, y_ovr)\n",
    "lr_proba = lr.predict_proba(X_test)\n",
    "lr_pred = lr.predict(X_test)\n",
    "\n",
    "print_eval(y_test, lr_pred, lr_proba[:, 1])"
   ]
  },
  {
   "cell_type": "markdown",
   "metadata": {},
   "source": [
    "- 'class_weight'만 설정했을 때와 성능상 큰 차이가 보이진 않음"
   ]
  },
  {
   "cell_type": "markdown",
   "metadata": {},
   "source": [
    "## Decision Tree"
   ]
  },
  {
   "cell_type": "markdown",
   "metadata": {},
   "source": [
    "1. Exited - 불균형 상태"
   ]
  },
  {
   "cell_type": "code",
   "execution_count": 22,
   "metadata": {},
   "outputs": [
    {
     "name": "stdout",
     "output_type": "stream",
     "text": [
      "Confusion Matrix\n",
      "[[25309   743]\n",
      " [ 4181  2774]]\n",
      "Accuracy: 0.8508 Precision: 0.7887 Recall: 0.3988\n",
      "F1: 0.5298 ROC AUC: 0.8448\n"
     ]
    }
   ],
   "source": [
    "dt = DecisionTreeClassifier(max_depth=3, random_state=13)\n",
    "dt.fit(X_train, y_train)\n",
    "dt_proba = dt.predict_proba(X_test)\n",
    "dt_pred = dt.predict(X_test)\n",
    "\n",
    "print_eval(y_test, dt_pred, dt_proba[:, 1])"
   ]
  },
  {
   "cell_type": "markdown",
   "metadata": {},
   "source": [
    "2. Exited - class_weight 사용"
   ]
  },
  {
   "cell_type": "code",
   "execution_count": 23,
   "metadata": {},
   "outputs": [
    {
     "name": "stdout",
     "output_type": "stream",
     "text": [
      "Confusion Matrix\n",
      "[[20168  5884]\n",
      " [ 1601  5354]]\n",
      "Accuracy: 0.7732 Precision: 0.4764 Recall: 0.7698\n",
      "F1: 0.5886 ROC AUC: 0.8448\n"
     ]
    }
   ],
   "source": [
    "dt = DecisionTreeClassifier(max_depth=3, random_state=13, class_weight='balanced')\n",
    "dt.fit(X_train, y_train)\n",
    "dt_proba = dt.predict_proba(X_test)\n",
    "dt_pred = dt.predict(X_test)\n",
    "\n",
    "print_eval(y_test, dt_pred, dt_proba[:, 1])"
   ]
  },
  {
   "cell_type": "markdown",
   "metadata": {},
   "source": [
    "- auc score를 통해 종합적으로 평가할 수 있는 모델의 성능은 로지스틱 회귀에 비해 향상됨"
   ]
  },
  {
   "cell_type": "markdown",
   "metadata": {},
   "source": [
    "> class_weight에 따른 성능 차이\n",
    "- class_weight 미사용: 더 높은 정밀도와 낮은 재현율. 모델이 실제 이탈 고객을 예측하는 데 보수적. 모델은 이탈할 것으로 확신이 드는 경우에만 이탈을 예측하고 이로 인해 잘못된 이탈 예측(거짓 양성)이 적지만, 실제 이탈 고객 중 많은 수를 놓치고 있음\n",
    "\n",
    "- class_weight='balanced' 사용: 재현율이 크게 증가하고 정밀도가 감소. 'balanced' 옵션은 불균형한 클래스 가중치를 조정하여 소수 클래스(이탈 고객)에 더 많은 중요도를 부여함. 결과적으로 모델은 이탈할 가능성이 있는 고객을 더 많이 식별하려 하지만, 이 과정에서 비이탈 고객을 잘못 이탈 고객으로 분류하는 경우가 증가. \n",
    "\n",
    "-> 비즈니스 목적에 따라 어떤 모델을 선택할 것인지 달라질 수 있음"
   ]
  },
  {
   "cell_type": "markdown",
   "metadata": {},
   "source": [
    "3. 오버샘플링"
   ]
  },
  {
   "cell_type": "code",
   "execution_count": 34,
   "metadata": {},
   "outputs": [
    {
     "name": "stdout",
     "output_type": "stream",
     "text": [
      "Confusion Matrix\n",
      "[[20168  5884]\n",
      " [ 1601  5354]]\n",
      "Accuracy: 0.7732 Precision: 0.4764 Recall: 0.7698\n",
      "F1: 0.5886 ROC AUC: 0.8426\n"
     ]
    }
   ],
   "source": [
    "dt = DecisionTreeClassifier(max_depth=3, random_state=13)\n",
    "dt.fit(X_ovr, y_ovr)\n",
    "dt_proba = dt.predict_proba(X_test)\n",
    "dt_pred = dt.predict(X_test)\n",
    "\n",
    "print_eval(y_test, dt_pred, dt_proba[:, 1])"
   ]
  },
  {
   "cell_type": "markdown",
   "metadata": {},
   "source": [
    "- 로지스틱 회귀와 마찬가지로 오버샘플링 한 것과 class_weight를 사용한 것의 차이는 없음"
   ]
  },
  {
   "cell_type": "markdown",
   "metadata": {},
   "source": [
    "## 랜덤포레스트"
   ]
  },
  {
   "cell_type": "markdown",
   "metadata": {},
   "source": [
    "1. Exited - 불균형 상태"
   ]
  },
  {
   "cell_type": "code",
   "execution_count": 27,
   "metadata": {},
   "outputs": [
    {
     "name": "stdout",
     "output_type": "stream",
     "text": [
      "Confusion Matrix\n",
      "[[25908   144]\n",
      " [ 6080   875]]\n",
      "Accuracy: 0.8114 Precision: 0.8587 Recall: 0.1258\n",
      "F1: 0.2195 ROC AUC: 0.8637\n"
     ]
    }
   ],
   "source": [
    "rf = RandomForestClassifier(random_state=13, max_depth=3)\n",
    "rf.fit(X_train, y_train)\n",
    "rf_proba = rf.predict_proba(X_test)\n",
    "rf_pred = rf.predict(X_test)\n",
    "\n",
    "print_eval(y_test, rf_pred, rf_proba[:, 1])"
   ]
  },
  {
   "cell_type": "markdown",
   "metadata": {},
   "source": [
    "2. Exited - class_weight 사용"
   ]
  },
  {
   "cell_type": "code",
   "execution_count": 30,
   "metadata": {},
   "outputs": [
    {
     "name": "stdout",
     "output_type": "stream",
     "text": [
      "Confusion Matrix\n",
      "[[20367  5685]\n",
      " [ 1647  5308]]\n",
      "Accuracy: 0.7779 Precision: 0.4829 Recall: 0.7632\n",
      "F1: 0.5915 ROC AUC: 0.8573\n"
     ]
    }
   ],
   "source": [
    "rf = RandomForestClassifier(random_state=13, max_depth=3, class_weight='balanced')\n",
    "rf.fit(X_train, y_train)\n",
    "rf_proba = rf.predict_proba(X_test)\n",
    "rf_pred = rf.predict(X_test)\n",
    "\n",
    "print_eval(y_test, rf_pred, rf_proba[:, 1])"
   ]
  },
  {
   "cell_type": "markdown",
   "metadata": {},
   "source": [
    "- class_weight 사용시 auc score 소폭 하락.\n",
    "    - recall은 크게 상승했지만, accuracy와 precision이 하락. \n",
    "    - 소수 클래스에 과도한 가중치 부여로 모델의 일반화 능력 저하\n",
    "    - class_weight 조정으로 일부 트리가 소수 클래스에 과도하게 편향되었을 가능성"
   ]
  },
  {
   "cell_type": "markdown",
   "metadata": {},
   "source": [
    "3. 오버샘플링"
   ]
  },
  {
   "cell_type": "code",
   "execution_count": 33,
   "metadata": {},
   "outputs": [
    {
     "name": "stdout",
     "output_type": "stream",
     "text": [
      "Confusion Matrix\n",
      "[[21902  4150]\n",
      " [ 2246  4709]]\n",
      "Accuracy: 0.8062 Precision: 0.5315 Recall: 0.6771\n",
      "F1: 0.5955 ROC AUC: 0.8521\n"
     ]
    }
   ],
   "source": [
    "rf = RandomForestClassifier(random_state=13, max_depth=3)\n",
    "rf.fit(X_ovr, y_ovr)\n",
    "rf_proba = rf.predict_proba(X_test)\n",
    "rf_pred = rf.predict(X_test)\n",
    "\n",
    "print_eval(y_test, rf_pred, rf_proba[:, 1])"
   ]
  },
  {
   "cell_type": "markdown",
   "metadata": {},
   "source": [
    "## LGBM"
   ]
  },
  {
   "cell_type": "markdown",
   "metadata": {},
   "source": [
    "1. Exited - 불균형 상태"
   ]
  },
  {
   "cell_type": "code",
   "execution_count": 35,
   "metadata": {},
   "outputs": [
    {
     "name": "stdout",
     "output_type": "stream",
     "text": [
      "[LightGBM] [Info] Number of positive: 27966, number of negative: 104061\n",
      "[LightGBM] [Info] Auto-choosing row-wise multi-threading, the overhead of testing was 0.002219 seconds.\n",
      "You can set `force_row_wise=true` to remove the overhead.\n",
      "And if memory is not enough, you can set `force_col_wise=true`.\n",
      "[LightGBM] [Info] Total Bins 864\n",
      "[LightGBM] [Info] Number of data points in the train set: 132027, number of used features: 13\n",
      "[LightGBM] [Info] [binary:BoostFromScore]: pavg=0.211820 -> initscore=-1.313988\n",
      "[LightGBM] [Info] Start training from score -1.313988\n",
      "[LightGBM] [Warning] No further splits with positive gain, best gain: -inf\n",
      "Confusion Matrix\n",
      "[[24835  1217]\n",
      " [ 3185  3770]]\n",
      "Accuracy: 0.8666 Precision: 0.756 Recall: 0.5421\n",
      "F1: 0.6314 ROC AUC: 0.8898\n"
     ]
    }
   ],
   "source": [
    "lgbm = LGBMClassifier(random_state=13, max_depth=3)\n",
    "lgbm.fit(X_train, y_train)\n",
    "lgbm_proba = lgbm.predict_proba(X_test)\n",
    "lgbm_pred = lgbm.predict(X_test)\n",
    "\n",
    "print_eval(y_test, lgbm_pred, lgbm_proba[:, 1])"
   ]
  },
  {
   "cell_type": "markdown",
   "metadata": {},
   "source": [
    "2. Exited - class_weight"
   ]
  },
  {
   "cell_type": "code",
   "execution_count": 36,
   "metadata": {},
   "outputs": [
    {
     "name": "stdout",
     "output_type": "stream",
     "text": [
      "[LightGBM] [Info] Number of positive: 27966, number of negative: 104061\n",
      "[LightGBM] [Info] Auto-choosing row-wise multi-threading, the overhead of testing was 0.002603 seconds.\n",
      "You can set `force_row_wise=true` to remove the overhead.\n",
      "And if memory is not enough, you can set `force_col_wise=true`.\n",
      "[LightGBM] [Info] Total Bins 864\n",
      "[LightGBM] [Info] Number of data points in the train set: 132027, number of used features: 13\n",
      "[LightGBM] [Info] [binary:BoostFromScore]: pavg=0.500000 -> initscore=-0.000000\n",
      "[LightGBM] [Info] Start training from score -0.000000\n",
      "Confusion Matrix\n",
      "[[21006  5046]\n",
      " [ 1379  5576]]\n",
      "Accuracy: 0.8053 Precision: 0.5249 Recall: 0.8017\n",
      "F1: 0.6345 ROC AUC: 0.8896\n"
     ]
    }
   ],
   "source": [
    "lgbm = LGBMClassifier(random_state=13, max_depth=3, class_weight='balanced')\n",
    "lgbm.fit(X_train, y_train)\n",
    "lgbm_proba = lgbm.predict_proba(X_test)\n",
    "lgbm_pred = lgbm.predict(X_test)\n",
    "\n",
    "print_eval(y_test, lgbm_pred, lgbm_proba[:, 1])"
   ]
  },
  {
   "cell_type": "markdown",
   "metadata": {},
   "source": [
    "> 데이터 불균형과 precision <-> recall 관계\n",
    "- 정밀도(Precision) 하락: class_weight='balanced'를 사용하면 모델은 소수 클래스의 예측에 더 많은 중점을 두고, 모델은 실제로는 음성 클래스인 샘플들을 양성 클래스로 잘못 분류할 가능성이 높아짐. 모델이 양성으로 예측한 샘플들 중 실제로 양성인 샘플의 비율이 감소\n",
    "- 재현율(Recall) 상승: 소수 클래스에 더 많은 가중치를 부여함으로써 모델은 실제 양성 클래스 샘플을 놓치지 않으려고 하고, 결과적으로 실제 양성 클래스인 샘플들 중 모델이 양성으로 올바르게 예측한 비율이 증가\n",
    "\n",
    "-> 데이터 불균형 문제 해결을 위한 시도는 precision과 recall의 트레이드 오프 관계"
   ]
  },
  {
   "cell_type": "markdown",
   "metadata": {},
   "source": [
    "3. 오버샘플링"
   ]
  },
  {
   "cell_type": "code",
   "execution_count": 37,
   "metadata": {},
   "outputs": [
    {
     "name": "stdout",
     "output_type": "stream",
     "text": [
      "[LightGBM] [Info] Number of positive: 104061, number of negative: 104061\n",
      "[LightGBM] [Info] Auto-choosing row-wise multi-threading, the overhead of testing was 0.007412 seconds.\n",
      "You can set `force_row_wise=true` to remove the overhead.\n",
      "And if memory is not enough, you can set `force_col_wise=true`.\n",
      "[LightGBM] [Info] Total Bins 1556\n",
      "[LightGBM] [Info] Number of data points in the train set: 208122, number of used features: 13\n",
      "[LightGBM] [Info] [binary:BoostFromScore]: pavg=0.500000 -> initscore=0.000000\n",
      "Confusion Matrix\n",
      "[[24079  1973]\n",
      " [ 2621  4334]]\n",
      "Accuracy: 0.8608 Precision: 0.6872 Recall: 0.6231\n",
      "F1: 0.6536 ROC AUC: 0.8876\n"
     ]
    }
   ],
   "source": [
    "lgbm = LGBMClassifier(random_state=13, max_depth=3)\n",
    "lgbm.fit(X_ovr, y_ovr)\n",
    "lgbm_proba = lgbm.predict_proba(X_test)\n",
    "lgbm_pred = lgbm.predict(X_test)\n",
    "\n",
    "print_eval(y_test, lgbm_pred, lgbm_proba[:, 1])"
   ]
  },
  {
   "cell_type": "markdown",
   "metadata": {},
   "source": [
    "> LGBM에서 class_weight과 오버 샘플링 사용 비교\n",
    "- class_weight을 사용한 경우, \n",
    "    - 재현율이 높게 측정됨. 이는 모델이 실제 이탈 고객을를 놓치지 않는 데 효과적임을 의미\n",
    "    - 그러나 이 모델은 낮은 정밀도를 가지고 있어, 이탈 고객이 아닌 경우에도 이탈 고객으로 잘못 예측하는 경우가 많음\n",
    "- SMOTE를 사용한 오버샘플링을 한 경우, \n",
    "    - 더 높은 정확도와 정밀도를 보이지만, 재현율이 첫 번째 모델보다 낮음\n",
    "    - 더 적은 수의 거짓 양성을 생성하지만, 양성 케이스를 놓칠 가능성이 더 높음(실제 이탈 고객을 놓칠 가능성이 더 높음)\n",
    "\n",
    "-> 어떤 모델이 더 나은가?\n",
    "- 비즈니스 요구에 따라 다름: \n",
    "    - 이탈 예측과 같은 경우, 재현율이 더 중요할 수 있음. 이 경우, class_weight를 사용한 모델을 선택\n",
    "    - 비용과 위험 고려: 잘못된 이탈 예측이 마케팅 비용이나 다른 부정적인 결과(고객 불편)를 초래할 수 있다면, 오버 샘플링을 사용한 모델을 선택"
   ]
  },
  {
   "cell_type": "code",
   "execution_count": null,
   "metadata": {},
   "outputs": [],
   "source": []
  }
 ],
 "metadata": {
  "kernelspec": {
   "display_name": "ds_study",
   "language": "python",
   "name": "python3"
  },
  "language_info": {
   "codemirror_mode": {
    "name": "ipython",
    "version": 3
   },
   "file_extension": ".py",
   "mimetype": "text/x-python",
   "name": "python",
   "nbconvert_exporter": "python",
   "pygments_lexer": "ipython3",
   "version": "3.8.18"
  }
 },
 "nbformat": 4,
 "nbformat_minor": 2
}
